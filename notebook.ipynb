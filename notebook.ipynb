{
 "cells": [
  {
   "cell_type": "markdown",
   "id": "712089e9-0ae0-44dc-b0de-4900e3047ea8",
   "metadata": {},
   "source": [
    "## Summary\n",
    "\n",
    "\n",
    "1.\n",
    "   ***a) Describe the distribution that our daily transfer volumes follow.***\n",
    "\n",
    "    A: Bimodal, right-skewed distribution\n",
    "    \n",
    "   ***b) What real-world cause do you think is behind this shape of distribution?***\n",
    "\n",
    "    A: Distinct customer Segments  - C2C (small transactions) and B2B (large transactions)\n",
    "  \n",
    "    \n",
    "   ***c) What are some of the implications that this distribution would commonly have on analysis that you might do***\n",
    "\n",
    "    A: A bimodal, right-skewed distribution in transaction data has several important implications for analysis:  \n",
    "\n",
    "  \n",
    "     * **Mean Discrepancy** - the average value of the distribution will overestimate the value of a typical transaction. Mean is higher than Median and Mode (Mean > Median > Mode).\n",
    "     * **Standard Deviation** -  becomes less meaningful\n",
    "     * **Segmentation necessity** - customer behavior is different in two segments (B2B, C2C), so I'll need to analyse two groups separately, and separate forecasting model may be required\n",
    "     * **Outlier handling decisions** - the right tail means there are few transactions with high value, so we need to decide if drop them\n",
    "     * **Statistical testing limitations** - many parametric statistical tests assume normality, so we need to normalize (log, sqrt, or box-cox) the data before tests, as it may give misleading results. In skewed data is more appropriate non-parametric tests.\n",
    "     * **Forecasting Complexity** - Simple time series models can struggle\n",
    "\n",
    "\n",
    ".\n",
    "\n",
    "2. ***Have transfer volumes along this route changed significantly from quarter to quarter in 2023?. How would you determine that the observed differences from quarter to quarter are 'real' as opposed to being the result of background fluctuations?***\n",
    "\n",
    "\n",
    "\n",
    "   Yes, transfer volumes has changed significantly in Q3 (-15% in Q3 for higher group). There are two ways to determine that the observed differences are statistically significant:\n",
    "  * Parametric tests: ANOVA (normalization is required, I used Box-Cox for transformation, Shapiro-Wilk test for normality, and Tukey’s HSD test to identify which specific pairs of quarters differ. The result of this test is that p = 0.009, which is less than 0.05, so I can reject the null hypothesis and conclude that there is a significant difference in the mean transaction amounts across the quarters. Q3 and Q4 have a statistically significant difference in transaction amounts. Q2 and Q3, and Q2 and Q4, do not show significant differences in transaction amounts.\n",
    ")\n",
    "   * Non-parametric tests: Kruskal-Wallis to check if the difference exists and Dunn’s test for pairwise comparisons Kruskal-Wallis.\n",
    "\n",
    "   \n",
    "\n",
    "3. ***Estimate the total transfer volume for October 2023***\n",
    "\n",
    "   A: Estimated Transfer Volume in October 2023 is £6,422,863.89. During the data cleaning process, I noticed 22 missing dates, most of them in October. I found that missing dates are mainly working days. Given that I found the mean value of transactions by day name during the year and filled the missing data points. I can also estimate October's transaction volume based on the daily average of historical data as well as estimating confidence intervals. Based on this approach, **estimated Transfer Volume** in October 2023 is **£5,924,043.75** and **95% Confidence Interval** for October Total is **(£5,178,914.80, £6,669,172.71)**\n",
    "\n",
    "\n",
    "    \n",
    "\n",
    "\n"
   ]
  },
  {
   "cell_type": "markdown",
   "id": "0bfab437-0907-4228-822c-1106928e4295",
   "metadata": {},
   "source": [
    "### Import data and packages"
   ]
  },
  {
   "cell_type": "code",
   "execution_count": 56,
   "id": "15d8376b-4d08-44bb-a715-da1e596dc00d",
   "metadata": {},
   "outputs": [],
   "source": [
    "import pandas as pd\n",
    "import numpy as np\n",
    "import matplotlib.pyplot as plt\n",
    "import seaborn as sns\n",
    "from datetime import datetime\n",
    "import plotly.express as px\n",
    "import plotly.graph_objects as go\n",
    "import copy\n",
    "from scipy import stats\n",
    "from statsmodels.stats.multicomp import pairwise_tukeyhsd\n",
    "import scikit_posthocs as sp\n",
    "from scipy.stats import boxcox, yeojohnson\n",
    "\n",
    "%matplotlib inline\n",
    "%config InlineBackend.figure_format = 'retina' # Improve quality of graphs"
   ]
  },
  {
   "cell_type": "code",
   "execution_count": 57,
   "id": "c5d84ea1-9152-495f-9bea-d2d9066b8871",
   "metadata": {},
   "outputs": [
    {
     "data": {
      "text/html": [
       "<div>\n",
       "<style scoped>\n",
       "    .dataframe tbody tr th:only-of-type {\n",
       "        vertical-align: middle;\n",
       "    }\n",
       "\n",
       "    .dataframe tbody tr th {\n",
       "        vertical-align: top;\n",
       "    }\n",
       "\n",
       "    .dataframe thead th {\n",
       "        text-align: right;\n",
       "    }\n",
       "</style>\n",
       "<table border=\"1\" class=\"dataframe\">\n",
       "  <thead>\n",
       "    <tr style=\"text-align: right;\">\n",
       "      <th></th>\n",
       "      <th>posting_date</th>\n",
       "      <th>volume_gbp</th>\n",
       "    </tr>\n",
       "  </thead>\n",
       "  <tbody>\n",
       "    <tr>\n",
       "      <th>0</th>\n",
       "      <td>2023-04-01</td>\n",
       "      <td>0.00</td>\n",
       "    </tr>\n",
       "    <tr>\n",
       "      <th>1</th>\n",
       "      <td>2023-04-02</td>\n",
       "      <td>170487.18</td>\n",
       "    </tr>\n",
       "    <tr>\n",
       "      <th>2</th>\n",
       "      <td>2023-04-03</td>\n",
       "      <td>250508.04</td>\n",
       "    </tr>\n",
       "    <tr>\n",
       "      <th>3</th>\n",
       "      <td>2023-04-04</td>\n",
       "      <td>611955.31</td>\n",
       "    </tr>\n",
       "    <tr>\n",
       "      <th>4</th>\n",
       "      <td>2023-04-05</td>\n",
       "      <td>282503.79</td>\n",
       "    </tr>\n",
       "  </tbody>\n",
       "</table>\n",
       "</div>"
      ],
      "text/plain": [
       "  posting_date  volume_gbp\n",
       "0   2023-04-01        0.00\n",
       "1   2023-04-02   170487.18\n",
       "2   2023-04-03   250508.04\n",
       "3   2023-04-04   611955.31\n",
       "4   2023-04-05   282503.79"
      ]
     },
     "execution_count": 57,
     "metadata": {},
     "output_type": "execute_result"
    }
   ],
   "source": [
    "raw_data = pd.read_csv('dataset.csv', parse_dates=True)\n",
    "raw_data.head()"
   ]
  },
  {
   "cell_type": "markdown",
   "id": "fce05a99-08b3-4c9f-a1a1-fa0e9456b3ad",
   "metadata": {},
   "source": [
    "#### Functions"
   ]
  },
  {
   "cell_type": "code",
   "execution_count": 58,
   "id": "298596cb-82a3-455c-9dd2-511a344f1954",
   "metadata": {},
   "outputs": [],
   "source": [
    "def find_valley_point(data, bins=100, smoothing_window=5):\n",
    "    # Create histogram\n",
    "    hist, bin_edges = np.histogram(data, bins=bins, density=True)\n",
    "    bin_centers = (bin_edges[:-1] + bin_edges[1:]) / 2\n",
    "    \n",
    "    # Smooth the histogram using moving average\n",
    "    def smooth_histogram(hist, window_size):\n",
    "        window = np.ones(window_size) / window_size\n",
    "        return np.convolve(hist, window, mode='same')\n",
    "    \n",
    "    smoothed_hist = smooth_histogram(hist, smoothing_window)\n",
    "    \n",
    "    # Find peaks and valleys\n",
    "    peak_indices = []\n",
    "    valley_indices = []\n",
    "    \n",
    "    for i in range(1, len(smoothed_hist) - 1):\n",
    "        if smoothed_hist[i] > smoothed_hist[i-1] and smoothed_hist[i] > smoothed_hist[i+1]:\n",
    "            peak_indices.append(i)\n",
    "        elif smoothed_hist[i] < smoothed_hist[i-1] and smoothed_hist[i] < smoothed_hist[i+1]:\n",
    "            valley_indices.append(i)\n",
    "    \n",
    "    # Find the main valley between the two highest peaks\n",
    "    if len(peak_indices) >= 2:\n",
    "        # Get the two highest peaks\n",
    "        peak_heights = [smoothed_hist[i] for i in peak_indices]\n",
    "        sorted_peaks = sorted(zip(peak_heights, peak_indices), reverse=True)\n",
    "        main_peaks = sorted(sorted_peaks[:2], key=lambda x: x[1])\n",
    "        \n",
    "        # Find valleys between these peaks\n",
    "        valid_valleys = [v for v in valley_indices \n",
    "                        if v > main_peaks[0][1] and v < main_peaks[1][1]]\n",
    "        \n",
    "        if valid_valleys:\n",
    "            valley_point = bin_centers[valid_valleys[0]]\n",
    "        else:\n",
    "            valley_point = None\n",
    "    else:\n",
    "        valley_point = None\n",
    "    \n",
    "    return valley_point, {\n",
    "        'bin_centers': bin_centers,\n",
    "        'hist': hist,\n",
    "        'smoothed_hist': smoothed_hist,\n",
    "        'peaks': peak_indices,\n",
    "        'valleys': valley_indices\n",
    "    }\n",
    "\n",
    "def plot_distribution_with_valley(data, valley_point, hist_info):\n",
    "    plt.figure(figsize=(12, 6))\n",
    "    \n",
    "    # Plot original histogram\n",
    "    plt.hist(data, bins=100, density=True, alpha=0.5, color='gray', label='Original Data')\n",
    "    \n",
    "    # Plot smoothed histogram\n",
    "    plt.plot(hist_info['bin_centers'], hist_info['smoothed_hist'], \n",
    "             'r-', linewidth=2, label='Smoothed Distribution')\n",
    "    \n",
    "    # Mark valley point\n",
    "    if valley_point is not None:\n",
    "        plt.axvline(x=valley_point, color='g', linestyle='--', \n",
    "                   label=f'Valley Point: {valley_point:.2f}')\n",
    "    \n",
    "    plt.title('Distribution with Valley Point')\n",
    "    plt.xlabel('Value')\n",
    "    plt.ylabel('Density')\n",
    "    plt.legend()\n",
    "    plt.grid(True, alpha=0.3)\n",
    "    \n",
    "    return plt\n",
    "\n",
    "def split_distribution(data, plot=True):\n",
    "    # Find valley point\n",
    "    valley_point, hist_info = find_valley_point(dataset['volume_gbp'])\n",
    "    \n",
    "    # Split the data\n",
    "    group1 = dataset['volume_gbp'][dataset['volume_gbp'] <= valley_point]\n",
    "    group2 = dataset['volume_gbp'][dataset['volume_gbp'] > valley_point]\n",
    "    \n",
    "    if plot:\n",
    "        plot_distribution_with_valley(dataset['volume_gbp'], valley_point, hist_info)\n",
    "        plt.show()\n",
    "    \n",
    "    return valley_point, group1, group2"
   ]
  },
  {
   "cell_type": "code",
   "execution_count": 59,
   "id": "d2492332-b515-4dc5-abee-e68a8bb26142",
   "metadata": {},
   "outputs": [],
   "source": [
    "def summary_table(df):\n",
    "    group_summary = df.groupby(['quarter'])['volume_gbp_x'].sum().to_frame()\n",
    "    group_summary.rename(columns={'volume_gbp_x': 'sum_volume_gbp'}, inplace=True)\n",
    "    group_summary['avg_volume_gbp'] = df.groupby(['quarter'])['volume_gbp_x'].mean()\n",
    "    group_summary['pct_change_volume_gbp'] = group_summary['sum_volume_gbp'].pct_change()*100\n",
    "    return group_summary"
   ]
  },
  {
   "cell_type": "code",
   "execution_count": 60,
   "id": "fdf5b352-9508-44a6-863f-4f4452adba0e",
   "metadata": {},
   "outputs": [],
   "source": [
    "def non_parametric_tests(df, alpha):\n",
    "    # Perform Kruskal-Wallis H-test\n",
    "    q2 = df[df['quarter']=='Q2']['volume_gbp_x']\n",
    "    q3 = df[df['quarter']=='Q3']['volume_gbp_x']\n",
    "    q4 = df[df['quarter']=='Q4']['volume_gbp_x']\n",
    "    h_stat, p_value = stats.kruskal(q2, q3, q4)\n",
    "    if p_value < alpha:\n",
    "        result  = f'{p_value:.4f} is < than {alpha}, so we would reject the null hypothesis.\\\n",
    "        This means there is strong statistical evidence that there are significant differences in transaction volumes between quarters'\n",
    "        # Perform Dunn’s test (pairwise comparisons\n",
    "        dunn_results = sp.posthoc_dunn(\n",
    "            pd.DataFrame(df[['volume_gbp_x', 'quarter']]), \n",
    "            val_col='volume_gbp_x', \n",
    "            group_col='quarter', \n",
    "            p_adjust='bonferroni' \n",
    ")\n",
    "\n",
    "    \n",
    "    else:\n",
    "        result =f'{p_value:.4f} is < than {alpha}, so we would reject the null hypothesis.'\n",
    "    return result, (\"Dunn's Test Pairwise Comparisons:\", dunn_results)\n"
   ]
  },
  {
   "cell_type": "markdown",
   "id": "c32d725b-b666-44f3-affb-fcc0bca38b58",
   "metadata": {
    "jp-MarkdownHeadingCollapsed": true
   },
   "source": [
    "### Data Cleaning\n",
    "In this section, I'll perform data cleaning and data preprocessing"
   ]
  },
  {
   "cell_type": "code",
   "execution_count": 61,
   "id": "c5561eab-731d-48a3-9e0c-bcda71e8babb",
   "metadata": {},
   "outputs": [],
   "source": [
    "# Make a copy of original dataset\n",
    "data = copy.deepcopy(raw_data)"
   ]
  },
  {
   "cell_type": "code",
   "execution_count": 62,
   "id": "001cf950-084b-4685-b0de-8f0b7012381b",
   "metadata": {
    "scrolled": true
   },
   "outputs": [
    {
     "name": "stdout",
     "output_type": "stream",
     "text": [
      "Shape of data: 2 columns, 253 rows\n"
     ]
    }
   ],
   "source": [
    "print(f'Shape of data: {data.shape[1]} columns, {data.shape[0]} rows')"
   ]
  },
  {
   "cell_type": "markdown",
   "id": "a9bbe0a0-8438-44fa-862b-9e725de1f332",
   "metadata": {},
   "source": [
    "Check data type of columns to potentially transform them to appropriate data type, verify presence of missing / null values"
   ]
  },
  {
   "cell_type": "code",
   "execution_count": 63,
   "id": "2d274e28-b8ef-4f2e-b735-ab3e4f65857b",
   "metadata": {},
   "outputs": [
    {
     "name": "stdout",
     "output_type": "stream",
     "text": [
      "<class 'pandas.core.frame.DataFrame'>\n",
      "RangeIndex: 253 entries, 0 to 252\n",
      "Data columns (total 2 columns):\n",
      " #   Column        Non-Null Count  Dtype  \n",
      "---  ------        --------------  -----  \n",
      " 0   posting_date  253 non-null    object \n",
      " 1   volume_gbp    253 non-null    float64\n",
      "dtypes: float64(1), object(1)\n",
      "memory usage: 4.1+ KB\n"
     ]
    }
   ],
   "source": [
    "raw_data.info()"
   ]
  },
  {
   "cell_type": "code",
   "execution_count": 64,
   "id": "2210e77d-a060-4755-bd0c-9814ca221f55",
   "metadata": {},
   "outputs": [],
   "source": [
    "# Convert porting date to a date data type\n",
    "data['posting_date'] = pd.to_datetime(data['posting_date'])"
   ]
  },
  {
   "cell_type": "code",
   "execution_count": 65,
   "id": "7045dad5-9b08-4e6b-a8cf-5f2268693a76",
   "metadata": {},
   "outputs": [
    {
     "name": "stdout",
     "output_type": "stream",
     "text": [
      "<class 'pandas.core.frame.DataFrame'>\n",
      "RangeIndex: 253 entries, 0 to 252\n",
      "Data columns (total 2 columns):\n",
      " #   Column        Non-Null Count  Dtype         \n",
      "---  ------        --------------  -----         \n",
      " 0   posting_date  253 non-null    datetime64[ns]\n",
      " 1   volume_gbp    253 non-null    float64       \n",
      "dtypes: datetime64[ns](1), float64(1)\n",
      "memory usage: 4.1 KB\n"
     ]
    }
   ],
   "source": [
    "data.info()"
   ]
  },
  {
   "cell_type": "code",
   "execution_count": 66,
   "id": "3e067eed-8c54-4be1-a117-8d699e456756",
   "metadata": {},
   "outputs": [
    {
     "data": {
      "text/plain": [
       "0"
      ]
     },
     "execution_count": 66,
     "metadata": {},
     "output_type": "execute_result"
    }
   ],
   "source": [
    "# Check for duplicates\n",
    "data.duplicated().sum()"
   ]
  },
  {
   "cell_type": "markdown",
   "id": "68ba2637-2b18-4bf3-9615-11e2a68c9dfa",
   "metadata": {},
   "source": [
    "After a quick look at the time series data I saw that the data follows a weekly pattern, so there is weekly seasonality.\n",
    "\n",
    "I can see also a potential data issue in October 2023.\n",
    "\n",
    "A spike in early May can be an outlier or a big business transaction"
   ]
  },
  {
   "cell_type": "code",
   "execution_count": 67,
   "id": "9a07532c-8c69-4eee-a446-a26a0ab9fa98",
   "metadata": {},
   "outputs": [
    {
     "data": {
      "text/html": [
       "<div>\n",
       "<style scoped>\n",
       "    .dataframe tbody tr th:only-of-type {\n",
       "        vertical-align: middle;\n",
       "    }\n",
       "\n",
       "    .dataframe tbody tr th {\n",
       "        vertical-align: top;\n",
       "    }\n",
       "\n",
       "    .dataframe thead th {\n",
       "        text-align: right;\n",
       "    }\n",
       "</style>\n",
       "<table border=\"1\" class=\"dataframe\">\n",
       "  <thead>\n",
       "    <tr style=\"text-align: right;\">\n",
       "      <th></th>\n",
       "      <th>posting_date</th>\n",
       "      <th>volume_gbp</th>\n",
       "    </tr>\n",
       "  </thead>\n",
       "  <tbody>\n",
       "    <tr>\n",
       "      <th>0</th>\n",
       "      <td>2023-04-01</td>\n",
       "      <td>0.00</td>\n",
       "    </tr>\n",
       "    <tr>\n",
       "      <th>1</th>\n",
       "      <td>2023-04-02</td>\n",
       "      <td>170487.18</td>\n",
       "    </tr>\n",
       "    <tr>\n",
       "      <th>2</th>\n",
       "      <td>2023-04-03</td>\n",
       "      <td>250508.04</td>\n",
       "    </tr>\n",
       "    <tr>\n",
       "      <th>3</th>\n",
       "      <td>2023-04-04</td>\n",
       "      <td>611955.31</td>\n",
       "    </tr>\n",
       "    <tr>\n",
       "      <th>4</th>\n",
       "      <td>2023-04-05</td>\n",
       "      <td>282503.79</td>\n",
       "    </tr>\n",
       "  </tbody>\n",
       "</table>\n",
       "</div>"
      ],
      "text/plain": [
       "  posting_date  volume_gbp\n",
       "0   2023-04-01        0.00\n",
       "1   2023-04-02   170487.18\n",
       "2   2023-04-03   250508.04\n",
       "3   2023-04-04   611955.31\n",
       "4   2023-04-05   282503.79"
      ]
     },
     "execution_count": 67,
     "metadata": {},
     "output_type": "execute_result"
    }
   ],
   "source": [
    "data.head(5)"
   ]
  },
  {
   "cell_type": "markdown",
   "id": "1bca6ce2-f30c-431a-afe0-371c16252e18",
   "metadata": {},
   "source": [
    "Some of the records have volume_gbp is equal to 0. I'll check their quantity and randomness"
   ]
  },
  {
   "cell_type": "code",
   "execution_count": 68,
   "id": "2b05e422-6768-4586-aa1c-3e9aa5a00764",
   "metadata": {},
   "outputs": [
    {
     "name": "stdout",
     "output_type": "stream",
     "text": [
      "Number of records where volume_gbp is equal to 0 is: 10\n"
     ]
    }
   ],
   "source": [
    "print(f'Number of records where volume_gbp is equal to 0 is: {data[data['volume_gbp']==0.0]['volume_gbp'].count()}')"
   ]
  },
  {
   "cell_type": "markdown",
   "id": "955c98ca-c1b9-4a99-a896-789a53d2cb8c",
   "metadata": {},
   "source": [
    "Verify if all date records are in place, given the earlier observation about October's data issue"
   ]
  },
  {
   "cell_type": "code",
   "execution_count": 69,
   "id": "dd1b6a09-a4b4-422f-a2af-5fd5da8f51e2",
   "metadata": {},
   "outputs": [],
   "source": [
    "# Generate Date range\n",
    "full_dates = pd.date_range(start=data.iloc[0,0], end=data.iloc[-1, 0]).to_frame()\n",
    "full_dates.rename(columns={0: 'date'}, inplace=True)"
   ]
  },
  {
   "cell_type": "code",
   "execution_count": 70,
   "id": "80c0e482-96f2-4436-be78-171715a2df57",
   "metadata": {},
   "outputs": [
    {
     "data": {
      "text/html": [
       "<div>\n",
       "<style scoped>\n",
       "    .dataframe tbody tr th:only-of-type {\n",
       "        vertical-align: middle;\n",
       "    }\n",
       "\n",
       "    .dataframe tbody tr th {\n",
       "        vertical-align: top;\n",
       "    }\n",
       "\n",
       "    .dataframe thead th {\n",
       "        text-align: right;\n",
       "    }\n",
       "</style>\n",
       "<table border=\"1\" class=\"dataframe\">\n",
       "  <thead>\n",
       "    <tr style=\"text-align: right;\">\n",
       "      <th></th>\n",
       "      <th>date</th>\n",
       "      <th>posting_date</th>\n",
       "      <th>volume_gbp</th>\n",
       "    </tr>\n",
       "  </thead>\n",
       "  <tbody>\n",
       "    <tr>\n",
       "      <th>0</th>\n",
       "      <td>2023-04-01</td>\n",
       "      <td>2023-04-01</td>\n",
       "      <td>0.00</td>\n",
       "    </tr>\n",
       "    <tr>\n",
       "      <th>1</th>\n",
       "      <td>2023-04-02</td>\n",
       "      <td>2023-04-02</td>\n",
       "      <td>170487.18</td>\n",
       "    </tr>\n",
       "    <tr>\n",
       "      <th>2</th>\n",
       "      <td>2023-04-03</td>\n",
       "      <td>2023-04-03</td>\n",
       "      <td>250508.04</td>\n",
       "    </tr>\n",
       "    <tr>\n",
       "      <th>3</th>\n",
       "      <td>2023-04-04</td>\n",
       "      <td>2023-04-04</td>\n",
       "      <td>611955.31</td>\n",
       "    </tr>\n",
       "    <tr>\n",
       "      <th>4</th>\n",
       "      <td>2023-04-05</td>\n",
       "      <td>2023-04-05</td>\n",
       "      <td>282503.79</td>\n",
       "    </tr>\n",
       "  </tbody>\n",
       "</table>\n",
       "</div>"
      ],
      "text/plain": [
       "        date posting_date  volume_gbp\n",
       "0 2023-04-01   2023-04-01        0.00\n",
       "1 2023-04-02   2023-04-02   170487.18\n",
       "2 2023-04-03   2023-04-03   250508.04\n",
       "3 2023-04-04   2023-04-04   611955.31\n",
       "4 2023-04-05   2023-04-05   282503.79"
      ]
     },
     "execution_count": 70,
     "metadata": {},
     "output_type": "execute_result"
    }
   ],
   "source": [
    "# Merge Date Range into the main dataset\n",
    "dataset = full_dates.merge(data, how='left', left_on='date', right_on='posting_date')\n",
    "dataset.head()"
   ]
  },
  {
   "cell_type": "code",
   "execution_count": 71,
   "id": "ef2465a5-462a-48cf-8302-0450ce29b2cf",
   "metadata": {},
   "outputs": [
    {
     "name": "stdout",
     "output_type": "stream",
     "text": [
      "Number of missing date records are: 22\n"
     ]
    }
   ],
   "source": [
    "# Count missing dates\n",
    "print(f'Number of missing date records are: {dataset[dataset['date']!= dataset['posting_date']].count().iloc[0]}')"
   ]
  },
  {
   "cell_type": "code",
   "execution_count": 72,
   "id": "a160c1d5-70ea-4f97-9571-96f56f2fd934",
   "metadata": {},
   "outputs": [
    {
     "data": {
      "text/html": [
       "<div>\n",
       "<style scoped>\n",
       "    .dataframe tbody tr th:only-of-type {\n",
       "        vertical-align: middle;\n",
       "    }\n",
       "\n",
       "    .dataframe tbody tr th {\n",
       "        vertical-align: top;\n",
       "    }\n",
       "\n",
       "    .dataframe thead th {\n",
       "        text-align: right;\n",
       "    }\n",
       "</style>\n",
       "<table border=\"1\" class=\"dataframe\">\n",
       "  <thead>\n",
       "    <tr style=\"text-align: right;\">\n",
       "      <th></th>\n",
       "      <th>date</th>\n",
       "      <th>posting_date</th>\n",
       "      <th>volume_gbp</th>\n",
       "      <th>day_name</th>\n",
       "      <th>month_name</th>\n",
       "      <th>quarter</th>\n",
       "    </tr>\n",
       "  </thead>\n",
       "  <tbody>\n",
       "    <tr>\n",
       "      <th>0</th>\n",
       "      <td>2023-04-01</td>\n",
       "      <td>2023-04-01</td>\n",
       "      <td>0.00</td>\n",
       "      <td>Saturday</td>\n",
       "      <td>April</td>\n",
       "      <td>Q2</td>\n",
       "    </tr>\n",
       "    <tr>\n",
       "      <th>1</th>\n",
       "      <td>2023-04-02</td>\n",
       "      <td>2023-04-02</td>\n",
       "      <td>170487.18</td>\n",
       "      <td>Sunday</td>\n",
       "      <td>April</td>\n",
       "      <td>Q2</td>\n",
       "    </tr>\n",
       "    <tr>\n",
       "      <th>2</th>\n",
       "      <td>2023-04-03</td>\n",
       "      <td>2023-04-03</td>\n",
       "      <td>250508.04</td>\n",
       "      <td>Monday</td>\n",
       "      <td>April</td>\n",
       "      <td>Q2</td>\n",
       "    </tr>\n",
       "    <tr>\n",
       "      <th>3</th>\n",
       "      <td>2023-04-04</td>\n",
       "      <td>2023-04-04</td>\n",
       "      <td>611955.31</td>\n",
       "      <td>Tuesday</td>\n",
       "      <td>April</td>\n",
       "      <td>Q2</td>\n",
       "    </tr>\n",
       "    <tr>\n",
       "      <th>4</th>\n",
       "      <td>2023-04-05</td>\n",
       "      <td>2023-04-05</td>\n",
       "      <td>282503.79</td>\n",
       "      <td>Wednesday</td>\n",
       "      <td>April</td>\n",
       "      <td>Q2</td>\n",
       "    </tr>\n",
       "  </tbody>\n",
       "</table>\n",
       "</div>"
      ],
      "text/plain": [
       "        date posting_date  volume_gbp   day_name month_name quarter\n",
       "0 2023-04-01   2023-04-01        0.00   Saturday      April      Q2\n",
       "1 2023-04-02   2023-04-02   170487.18     Sunday      April      Q2\n",
       "2 2023-04-03   2023-04-03   250508.04     Monday      April      Q2\n",
       "3 2023-04-04   2023-04-04   611955.31    Tuesday      April      Q2\n",
       "4 2023-04-05   2023-04-05   282503.79  Wednesday      April      Q2"
      ]
     },
     "execution_count": 72,
     "metadata": {},
     "output_type": "execute_result"
    }
   ],
   "source": [
    "# Data Preprocessing\n",
    "dataset['day_name'] = dataset['date'].dt.day_name()\n",
    "dataset['month_name'] = dataset['date'].dt.month_name()\n",
    "dataset['quarter'] = dataset['date'].dt.quarter\n",
    "# Improve readability of quarter data\n",
    "quarter_mapping = {1: 'Q1', 2: 'Q2', 3:'Q3', 4:'Q4'}\n",
    "dataset['quarter'] = dataset['quarter'].apply(lambda x: quarter_mapping[x])\n",
    "dataset.head()"
   ]
  },
  {
   "cell_type": "code",
   "execution_count": 73,
   "id": "589c53e7-f12e-45cb-a7d4-7aa80ab8c7d9",
   "metadata": {},
   "outputs": [
    {
     "data": {
      "text/plain": [
       "day_name\n",
       "Friday       4\n",
       "Monday       5\n",
       "Thursday     4\n",
       "Tuesday      5\n",
       "Wednesday    4\n",
       "Name: date, dtype: int64"
      ]
     },
     "execution_count": 73,
     "metadata": {},
     "output_type": "execute_result"
    }
   ],
   "source": [
    "dataset[dataset['date']!= dataset['posting_date']].groupby('day_name')['date'].count()"
   ]
  },
  {
   "cell_type": "markdown",
   "id": "63f854ba-efe0-43d7-8de5-c334285fe549",
   "metadata": {},
   "source": [
    "Most of the missing values are during the working days. I decided to fill them with the average of transactions based on the day of the week "
   ]
  },
  {
   "cell_type": "code",
   "execution_count": 74,
   "id": "5ce7460e-d98d-4394-ad76-34f82854b70f",
   "metadata": {},
   "outputs": [],
   "source": [
    "def fill_the_mean(condition_col, target_col, value_to_be_inserted, df):\n",
    "    \n",
    "    new_target_var = []\n",
    "    \n",
    "    for x, y in zip(condition_col, target_col):\n",
    "        if str(y).lower()=='nan' or  str(y).lower()=='none':\n",
    "            y = round(value_to_be_inserted[x], 2) # take corresponding mean value\n",
    "        new_target_var.append(y)\n",
    "    new_target_var = pd.Series(new_target_var)\n",
    "    df['volume_gbp'] = new_target_var        \n",
    "    return df.head()"
   ]
  },
  {
   "cell_type": "code",
   "execution_count": 75,
   "id": "b969b621-1a02-4840-a804-0ae627fd5668",
   "metadata": {},
   "outputs": [
    {
     "data": {
      "text/plain": [
       "day_name\n",
       "Friday       144876.891143\n",
       "Monday       278064.950882\n",
       "Saturday       1965.951750\n",
       "Sunday        82575.706000\n",
       "Thursday     227477.732857\n",
       "Tuesday      369035.046765\n",
       "Wednesday    264933.717429\n",
       "Name: volume_gbp, dtype: float64"
      ]
     },
     "execution_count": 75,
     "metadata": {},
     "output_type": "execute_result"
    }
   ],
   "source": [
    "daily_avg_transaction = dataset.groupby(['day_name'])['volume_gbp'].mean()\n",
    "daily_avg_transaction"
   ]
  },
  {
   "cell_type": "markdown",
   "id": "9e35030e-6de0-4a53-b470-9fc45a02d9cb",
   "metadata": {},
   "source": [
    "I can see a pattern here during the weekend  there is lower transaction volumes"
   ]
  },
  {
   "cell_type": "code",
   "execution_count": 76,
   "id": "535a896a-a452-43d1-95d1-bd7815070e1f",
   "metadata": {},
   "outputs": [
    {
     "data": {
      "text/html": [
       "<div>\n",
       "<style scoped>\n",
       "    .dataframe tbody tr th:only-of-type {\n",
       "        vertical-align: middle;\n",
       "    }\n",
       "\n",
       "    .dataframe tbody tr th {\n",
       "        vertical-align: top;\n",
       "    }\n",
       "\n",
       "    .dataframe thead th {\n",
       "        text-align: right;\n",
       "    }\n",
       "</style>\n",
       "<table border=\"1\" class=\"dataframe\">\n",
       "  <thead>\n",
       "    <tr style=\"text-align: right;\">\n",
       "      <th></th>\n",
       "      <th>date</th>\n",
       "      <th>posting_date</th>\n",
       "      <th>volume_gbp</th>\n",
       "      <th>day_name</th>\n",
       "      <th>month_name</th>\n",
       "      <th>quarter</th>\n",
       "    </tr>\n",
       "  </thead>\n",
       "  <tbody>\n",
       "    <tr>\n",
       "      <th>0</th>\n",
       "      <td>2023-04-01</td>\n",
       "      <td>2023-04-01</td>\n",
       "      <td>0.00</td>\n",
       "      <td>Saturday</td>\n",
       "      <td>April</td>\n",
       "      <td>Q2</td>\n",
       "    </tr>\n",
       "    <tr>\n",
       "      <th>1</th>\n",
       "      <td>2023-04-02</td>\n",
       "      <td>2023-04-02</td>\n",
       "      <td>170487.18</td>\n",
       "      <td>Sunday</td>\n",
       "      <td>April</td>\n",
       "      <td>Q2</td>\n",
       "    </tr>\n",
       "    <tr>\n",
       "      <th>2</th>\n",
       "      <td>2023-04-03</td>\n",
       "      <td>2023-04-03</td>\n",
       "      <td>250508.04</td>\n",
       "      <td>Monday</td>\n",
       "      <td>April</td>\n",
       "      <td>Q2</td>\n",
       "    </tr>\n",
       "    <tr>\n",
       "      <th>3</th>\n",
       "      <td>2023-04-04</td>\n",
       "      <td>2023-04-04</td>\n",
       "      <td>611955.31</td>\n",
       "      <td>Tuesday</td>\n",
       "      <td>April</td>\n",
       "      <td>Q2</td>\n",
       "    </tr>\n",
       "    <tr>\n",
       "      <th>4</th>\n",
       "      <td>2023-04-05</td>\n",
       "      <td>2023-04-05</td>\n",
       "      <td>282503.79</td>\n",
       "      <td>Wednesday</td>\n",
       "      <td>April</td>\n",
       "      <td>Q2</td>\n",
       "    </tr>\n",
       "  </tbody>\n",
       "</table>\n",
       "</div>"
      ],
      "text/plain": [
       "        date posting_date  volume_gbp   day_name month_name quarter\n",
       "0 2023-04-01   2023-04-01        0.00   Saturday      April      Q2\n",
       "1 2023-04-02   2023-04-02   170487.18     Sunday      April      Q2\n",
       "2 2023-04-03   2023-04-03   250508.04     Monday      April      Q2\n",
       "3 2023-04-04   2023-04-04   611955.31    Tuesday      April      Q2\n",
       "4 2023-04-05   2023-04-05   282503.79  Wednesday      April      Q2"
      ]
     },
     "execution_count": 76,
     "metadata": {},
     "output_type": "execute_result"
    }
   ],
   "source": [
    "fill_the_mean(dataset['day_name'], dataset['volume_gbp'], daily_avg_transaction, dataset)"
   ]
  },
  {
   "cell_type": "markdown",
   "id": "032b4b37-790f-4b42-89e0-70d5a1575a0d",
   "metadata": {},
   "source": [
    "Data is clean and ready for analysis"
   ]
  },
  {
   "cell_type": "markdown",
   "id": "a404fd32-9226-4d3e-9225-6f3e2f7256ab",
   "metadata": {
    "jp-MarkdownHeadingCollapsed": true
   },
   "source": [
    "### Data Exploration and Distribution"
   ]
  },
  {
   "cell_type": "code",
   "execution_count": 77,
   "id": "cb9bab4a-3abf-451e-8307-b3ee225f2db0",
   "metadata": {},
   "outputs": [
    {
     "data": {
      "text/html": [
       "<div>\n",
       "<style scoped>\n",
       "    .dataframe tbody tr th:only-of-type {\n",
       "        vertical-align: middle;\n",
       "    }\n",
       "\n",
       "    .dataframe tbody tr th {\n",
       "        vertical-align: top;\n",
       "    }\n",
       "\n",
       "    .dataframe thead th {\n",
       "        text-align: right;\n",
       "    }\n",
       "</style>\n",
       "<table border=\"1\" class=\"dataframe\">\n",
       "  <thead>\n",
       "    <tr style=\"text-align: right;\">\n",
       "      <th></th>\n",
       "      <th>date</th>\n",
       "      <th>posting_date</th>\n",
       "      <th>volume_gbp</th>\n",
       "      <th>day_name</th>\n",
       "      <th>month_name</th>\n",
       "      <th>quarter</th>\n",
       "    </tr>\n",
       "  </thead>\n",
       "  <tbody>\n",
       "    <tr>\n",
       "      <th>0</th>\n",
       "      <td>2023-04-01</td>\n",
       "      <td>2023-04-01</td>\n",
       "      <td>0.00</td>\n",
       "      <td>Saturday</td>\n",
       "      <td>April</td>\n",
       "      <td>Q2</td>\n",
       "    </tr>\n",
       "    <tr>\n",
       "      <th>1</th>\n",
       "      <td>2023-04-02</td>\n",
       "      <td>2023-04-02</td>\n",
       "      <td>170487.18</td>\n",
       "      <td>Sunday</td>\n",
       "      <td>April</td>\n",
       "      <td>Q2</td>\n",
       "    </tr>\n",
       "    <tr>\n",
       "      <th>2</th>\n",
       "      <td>2023-04-03</td>\n",
       "      <td>2023-04-03</td>\n",
       "      <td>250508.04</td>\n",
       "      <td>Monday</td>\n",
       "      <td>April</td>\n",
       "      <td>Q2</td>\n",
       "    </tr>\n",
       "    <tr>\n",
       "      <th>3</th>\n",
       "      <td>2023-04-04</td>\n",
       "      <td>2023-04-04</td>\n",
       "      <td>611955.31</td>\n",
       "      <td>Tuesday</td>\n",
       "      <td>April</td>\n",
       "      <td>Q2</td>\n",
       "    </tr>\n",
       "    <tr>\n",
       "      <th>4</th>\n",
       "      <td>2023-04-05</td>\n",
       "      <td>2023-04-05</td>\n",
       "      <td>282503.79</td>\n",
       "      <td>Wednesday</td>\n",
       "      <td>April</td>\n",
       "      <td>Q2</td>\n",
       "    </tr>\n",
       "  </tbody>\n",
       "</table>\n",
       "</div>"
      ],
      "text/plain": [
       "        date posting_date  volume_gbp   day_name month_name quarter\n",
       "0 2023-04-01   2023-04-01        0.00   Saturday      April      Q2\n",
       "1 2023-04-02   2023-04-02   170487.18     Sunday      April      Q2\n",
       "2 2023-04-03   2023-04-03   250508.04     Monday      April      Q2\n",
       "3 2023-04-04   2023-04-04   611955.31    Tuesday      April      Q2\n",
       "4 2023-04-05   2023-04-05   282503.79  Wednesday      April      Q2"
      ]
     },
     "execution_count": 77,
     "metadata": {},
     "output_type": "execute_result"
    }
   ],
   "source": [
    "dataset.head()"
   ]
  },
  {
   "cell_type": "code",
   "execution_count": 78,
   "id": "a3303927-97ce-4224-8ae1-793dd5481c04",
   "metadata": {},
   "outputs": [
    {
     "data": {
      "text/plain": [
       "(275, 6)"
      ]
     },
     "execution_count": 78,
     "metadata": {},
     "output_type": "execute_result"
    }
   ],
   "source": [
    "dataset.shape"
   ]
  },
  {
   "cell_type": "code",
   "execution_count": 79,
   "id": "fb91ab76-d704-40a1-924e-4db7a1aae4c7",
   "metadata": {},
   "outputs": [
    {
     "data": {
      "text/html": [
       "<div>\n",
       "<style scoped>\n",
       "    .dataframe tbody tr th:only-of-type {\n",
       "        vertical-align: middle;\n",
       "    }\n",
       "\n",
       "    .dataframe tbody tr th {\n",
       "        vertical-align: top;\n",
       "    }\n",
       "\n",
       "    .dataframe thead th {\n",
       "        text-align: right;\n",
       "    }\n",
       "</style>\n",
       "<table border=\"1\" class=\"dataframe\">\n",
       "  <thead>\n",
       "    <tr style=\"text-align: right;\">\n",
       "      <th></th>\n",
       "      <th>count</th>\n",
       "      <th>mean</th>\n",
       "      <th>std</th>\n",
       "      <th>min</th>\n",
       "      <th>25%</th>\n",
       "      <th>50%</th>\n",
       "      <th>75%</th>\n",
       "      <th>max</th>\n",
       "    </tr>\n",
       "  </thead>\n",
       "  <tbody>\n",
       "    <tr>\n",
       "      <th>volume_gbp</th>\n",
       "      <td>275.0</td>\n",
       "      <td>194446.587418</td>\n",
       "      <td>165193.009013</td>\n",
       "      <td>0.0</td>\n",
       "      <td>59669.51</td>\n",
       "      <td>182066.14</td>\n",
       "      <td>278258.08</td>\n",
       "      <td>1057540.77</td>\n",
       "    </tr>\n",
       "  </tbody>\n",
       "</table>\n",
       "</div>"
      ],
      "text/plain": [
       "            count           mean            std  min       25%        50%  \\\n",
       "volume_gbp  275.0  194446.587418  165193.009013  0.0  59669.51  182066.14   \n",
       "\n",
       "                  75%         max  \n",
       "volume_gbp  278258.08  1057540.77  "
      ]
     },
     "execution_count": 79,
     "metadata": {},
     "output_type": "execute_result"
    }
   ],
   "source": [
    "dataset[['volume_gbp']].describe().T"
   ]
  },
  {
   "cell_type": "code",
   "execution_count": 80,
   "id": "59efa4aa-f22c-4a13-95d0-af569da8dec7",
   "metadata": {},
   "outputs": [
    {
     "data": {
      "text/plain": [
       "<Axes: xlabel='day_name'>"
      ]
     },
     "execution_count": 80,
     "metadata": {},
     "output_type": "execute_result"
    },
    {
     "data": {
      "image/png": "[encoded data removed]",
      "text/plain": [
       "<Figure size 640x480 with 1 Axes>"
      ]
     },
     "metadata": {
      "image/png": {
       "height": 514,
       "width": 547
      }
     },
     "output_type": "display_data"
    }
   ],
   "source": [
    "dataset.groupby('day_name')['volume_gbp'].sum().plot(kind='bar')\n",
    "# Most of the missing values are during the working days"
   ]
  },
  {
   "cell_type": "code",
   "execution_count": 81,
   "id": "067b437e-2756-44e8-867e-01b792adf619",
   "metadata": {},
   "outputs": [
    {
     "data": {
      "text/plain": [
       "<Axes: title={'center': 'Transaction Volume'}, xlabel='date'>"
      ]
     },
     "execution_count": 81,
     "metadata": {},
     "output_type": "execute_result"
    },
    {
     "data": {
      "image/png": "[encoded data removed]",
      "text/plain": [
       "<Figure size 640x480 with 1 Axes>"
      ]
     },
     "metadata": {
      "image/png": {
       "height": 588,
       "width": 534
      }
     },
     "output_type": "display_data"
    }
   ],
   "source": [
    "monthly_dataset  = pd.DataFrame(dataset[['date', 'volume_gbp']])\n",
    "monthly_dataset.set_index('date', inplace=True)\n",
    "monthly_dataset = monthly_dataset.resample('ME').sum()\n",
    "monthly_dataset.plot(kind='bar', title='Transaction Volume')"
   ]
  },
  {
   "cell_type": "code",
   "execution_count": 82,
   "id": "36303121-e51a-4516-82c2-ea1d8bc18bd3",
   "metadata": {},
   "outputs": [
    {
     "data": {
      "application/vnd.plotly.v1+json": {
       "config": {
        "plotlyServerURL": "https://plot.ly"
       },
       "data": [
        {
         "type": "scatter",
         "x": [
          "2023-04-01T00:00:00",
          "2023-04-02T00:00:00",
          "2023-04-03T00:00:00",
          "2023-04-04T00:00:00",
          "2023-04-05T00:00:00",
          "2023-04-06T00:00:00",
          "2023-04-07T00:00:00",
          "2023-04-08T00:00:00",
          "2023-04-09T00:00:00",
          "2023-04-10T00:00:00",
          "2023-04-11T00:00:00",
          "2023-04-12T00:00:00",
          "2023-04-13T00:00:00",
          "2023-04-14T00:00:00",
          "2023-04-15T00:00:00",
          "2023-04-16T00:00:00",
          "2023-04-17T00:00:00",
          "2023-04-18T00:00:00",
          "2023-04-19T00:00:00",
          "2023-04-20T00:00:00",
          "2023-04-21T00:00:00",
          "2023-04-22T00:00:00",
          "2023-04-23T00:00:00",
          "2023-04-24T00:00:00",
          "2023-04-25T00:00:00",
          "2023-04-26T00:00:00",
          "2023-04-27T00:00:00",
          "2023-04-28T00:00:00",
          "2023-04-29T00:00:00",
          "2023-04-30T00:00:00",
          "2023-05-01T00:00:00",
          "2023-05-02T00:00:00",
          "2023-05-03T00:00:00",
          "2023-05-04T00:00:00",
          "2023-05-05T00:00:00",
          "2023-05-06T00:00:00",
          "2023-05-07T00:00:00",
          "2023-05-08T00:00:00",
          "2023-05-09T00:00:00",
          "2023-05-10T00:00:00",
          "2023-05-11T00:00:00",
          "2023-05-12T00:00:00",
          "2023-05-13T00:00:00",
          "2023-05-14T00:00:00",
          "2023-05-15T00:00:00",
          "2023-05-16T00:00:00",
          "2023-05-17T00:00:00",
          "2023-05-18T00:00:00",
          "2023-05-19T00:00:00",
          "2023-05-20T00:00:00",
          "2023-05-21T00:00:00",
          "2023-05-22T00:00:00",
          "2023-05-23T00:00:00",
          "2023-05-24T00:00:00",
          "2023-05-25T00:00:00",
          "2023-05-26T00:00:00",
          "2023-05-27T00:00:00",
          "2023-05-28T00:00:00",
          "2023-05-29T00:00:00",
          "2023-05-30T00:00:00",
          "2023-05-31T00:00:00",
          "2023-06-01T00:00:00",
          "2023-06-02T00:00:00",
          "2023-06-03T00:00:00",
          "2023-06-04T00:00:00",
          "2023-06-05T00:00:00",
          "2023-06-06T00:00:00",
          "2023-06-07T00:00:00",
          "2023-06-08T00:00:00",
          "2023-06-09T00:00:00",
          "2023-06-10T00:00:00",
          "2023-06-11T00:00:00",
          "2023-06-12T00:00:00",
          "2023-06-13T00:00:00",
          "2023-06-14T00:00:00",
          "2023-06-15T00:00:00",
          "2023-06-16T00:00:00",
          "2023-06-17T00:00:00",
          "2023-06-18T00:00:00",
          "2023-06-19T00:00:00",
          "2023-06-20T00:00:00",
          "2023-06-21T00:00:00",
          "2023-06-22T00:00:00",
          "2023-06-23T00:00:00",
          "2023-06-24T00:00:00",
          "2023-06-25T00:00:00",
          "2023-06-26T00:00:00",
          "2023-06-27T00:00:00",
          "2023-06-28T00:00:00",
          "2023-06-29T00:00:00",
          "2023-06-30T00:00:00",
          "2023-07-01T00:00:00",
          "2023-07-02T00:00:00",
          "2023-07-03T00:00:00",
          "2023-07-04T00:00:00",
          "2023-07-05T00:00:00",
          "2023-07-06T00:00:00",
          "2023-07-07T00:00:00",
          "2023-07-08T00:00:00",
          "2023-07-09T00:00:00",
          "2023-07-10T00:00:00",
          "2023-07-11T00:00:00",
          "2023-07-12T00:00:00",
          "2023-07-13T00:00:00",
          "2023-07-14T00:00:00",
          "2023-07-15T00:00:00",
          "2023-07-16T00:00:00",
          "2023-07-17T00:00:00",
          "2023-07-18T00:00:00",
          "2023-07-19T00:00:00",
          "2023-07-20T00:00:00",
          "2023-07-21T00:00:00",
          "2023-07-22T00:00:00",
          "2023-07-23T00:00:00",
          "2023-07-24T00:00:00",
          "2023-07-25T00:00:00",
          "2023-07-26T00:00:00",
          "2023-07-27T00:00:00",
          "2023-07-28T00:00:00",
          "2023-07-29T00:00:00",
          "2023-07-30T00:00:00",
          "2023-07-31T00:00:00",
          "2023-08-01T00:00:00",
          "2023-08-02T00:00:00",
          "2023-08-03T00:00:00",
          "2023-08-04T00:00:00",
          "2023-08-05T00:00:00",
          "2023-08-06T00:00:00",
          "2023-08-07T00:00:00",
          "2023-08-08T00:00:00",
          "2023-08-09T00:00:00",
          "2023-08-10T00:00:00",
          "2023-08-11T00:00:00",
          "2023-08-12T00:00:00",
          "2023-08-13T00:00:00",
          "2023-08-14T00:00:00",
          "2023-08-15T00:00:00",
          "2023-08-16T00:00:00",
          "2023-08-17T00:00:00",
          "2023-08-18T00:00:00",
          "2023-08-19T00:00:00",
          "2023-08-20T00:00:00",
          "2023-08-21T00:00:00",
          "2023-08-22T00:00:00",
          "2023-08-23T00:00:00",
          "2023-08-24T00:00:00",
          "2023-08-25T00:00:00",
          "2023-08-26T00:00:00",
          "2023-08-27T00:00:00",
          "2023-08-28T00:00:00",
          "2023-08-29T00:00:00",
          "2023-08-30T00:00:00",
          "2023-08-31T00:00:00",
          "2023-09-01T00:00:00",
          "2023-09-02T00:00:00",
          "2023-09-03T00:00:00",
          "2023-09-04T00:00:00",
          "2023-09-05T00:00:00",
          "2023-09-06T00:00:00",
          "2023-09-07T00:00:00",
          "2023-09-08T00:00:00",
          "2023-09-09T00:00:00",
          "2023-09-10T00:00:00",
          "2023-09-11T00:00:00",
          "2023-09-12T00:00:00",
          "2023-09-13T00:00:00",
          "2023-09-14T00:00:00",
          "2023-09-15T00:00:00",
          "2023-09-16T00:00:00",
          "2023-09-17T00:00:00",
          "2023-09-18T00:00:00",
          "2023-09-19T00:00:00",
          "2023-09-20T00:00:00",
          "2023-09-21T00:00:00",
          "2023-09-22T00:00:00",
          "2023-09-23T00:00:00",
          "2023-09-24T00:00:00",
          "2023-09-25T00:00:00",
          "2023-09-26T00:00:00",
          "2023-09-27T00:00:00",
          "2023-09-28T00:00:00",
          "2023-09-29T00:00:00",
          "2023-09-30T00:00:00",
          "2023-10-01T00:00:00",
          "2023-10-07T00:00:00",
          "2023-10-08T00:00:00",
          "2023-10-14T00:00:00",
          "2023-10-15T00:00:00",
          "2023-10-21T00:00:00",
          "2023-10-22T00:00:00",
          "2023-10-28T00:00:00",
          "2023-10-29T00:00:00",
          "2023-11-01T00:00:00",
          "2023-11-02T00:00:00",
          "2023-11-03T00:00:00",
          "2023-11-04T00:00:00",
          "2023-11-05T00:00:00",
          "2023-11-06T00:00:00",
          "2023-11-07T00:00:00",
          "2023-11-08T00:00:00",
          "2023-11-09T00:00:00",
          "2023-11-10T00:00:00",
          "2023-11-11T00:00:00",
          "2023-11-12T00:00:00",
          "2023-11-13T00:00:00",
          "2023-11-14T00:00:00",
          "2023-11-15T00:00:00",
          "2023-11-16T00:00:00",
          "2023-11-17T00:00:00",
          "2023-11-18T00:00:00",
          "2023-11-19T00:00:00",
          "2023-11-20T00:00:00",
          "2023-11-21T00:00:00",
          "2023-11-22T00:00:00",
          "2023-11-23T00:00:00",
          "2023-11-24T00:00:00",
          "2023-11-25T00:00:00",
          "2023-11-26T00:00:00",
          "2023-11-27T00:00:00",
          "2023-11-28T00:00:00",
          "2023-11-29T00:00:00",
          "2023-11-30T00:00:00",
          "2023-12-01T00:00:00",
          "2023-12-02T00:00:00",
          "2023-12-03T00:00:00",
          "2023-12-04T00:00:00",
          "2023-12-05T00:00:00",
          "2023-12-06T00:00:00",
          "2023-12-07T00:00:00",
          "2023-12-08T00:00:00",
          "2023-12-09T00:00:00",
          "2023-12-10T00:00:00",
          "2023-12-11T00:00:00",
          "2023-12-12T00:00:00",
          "2023-12-13T00:00:00",
          "2023-12-14T00:00:00",
          "2023-12-15T00:00:00",
          "2023-12-16T00:00:00",
          "2023-12-17T00:00:00",
          "2023-12-18T00:00:00",
          "2023-12-19T00:00:00",
          "2023-12-20T00:00:00",
          "2023-12-21T00:00:00",
          "2023-12-22T00:00:00",
          "2023-12-23T00:00:00",
          "2023-12-24T00:00:00",
          "2023-12-25T00:00:00",
          "2023-12-26T00:00:00",
          "2023-12-27T00:00:00",
          "2023-12-28T00:00:00",
          "2023-12-29T00:00:00",
          "2023-12-30T00:00:00",
          "2023-12-31T00:00:00"
         ],
         "y": [
          0,
          170487.18000000014,
          250508.04000000007,
          611955.3100000005,
          282503.78999999986,
          98214.34,
          0,
          133.93,
          0,
          146062.75000000006,
          478821.4699999998,
          415103.3399999996,
          232508.3500000001,
          196760.17000000004,
          1016.54,
          111580.14,
          279423.0499999999,
          204840.37,
          151334.41999999995,
          232323.95999999993,
          128984.94000000005,
          398.31,
          130016.86,
          278451.20999999996,
          437898.0800000001,
          106577.70000000004,
          198191.03999999995,
          225681.10999999996,
          99.07,
          1030.05,
          463700.8299999996,
          1057540.7700000007,
          407913.7599999997,
          270604.12999999995,
          84094.26999999997,
          58.47,
          0,
          263501.08999999997,
          579876.2999999992,
          322877.3200000002,
          324894.59999999986,
          203198.8599999999,
          937.02,
          302809.1000000002,
          652392.6200000002,
          362814.31999999983,
          155240.32999999993,
          126419.33000000005,
          189330.4,
          0,
          162694.8300000001,
          346359.56999999983,
          302778,
          129235.52999999993,
          248586.58,
          135137.17000000004,
          1337.7199999999998,
          0,
          234660.88000000003,
          703013.5899999987,
          503461.20999999944,
          352677.9600000001,
          99460.03999999996,
          208.09,
          140697.44000000003,
          329173.4499999998,
          189991.96999999997,
          178640.42999999982,
          203085.73000000007,
          60555.459999999985,
          0,
          68031.79,
          242836.61999999985,
          145274.09,
          178454.54000000004,
          66537.73000000001,
          0,
          25.73,
          39.63,
          129154.36000000002,
          571708.3999999994,
          197859.55000000008,
          160012.18000000002,
          98868.89,
          621.76,
          149017.38000000015,
          396878.7500000003,
          248626.9999999999,
          266544.77000000014,
          371169.4000000001,
          166682.69999999995,
          4668.38,
          283122.21999999986,
          267358.41999999987,
          255003.85999999984,
          449238.23999999993,
          197092.47,
          106157.35000000003,
          747.9800000000001,
          167831.75000000003,
          355370.72999999975,
          205935.41999999984,
          123584.61000000002,
          134368.14000000004,
          58783.56000000001,
          1347.5200000000002,
          80543.62000000002,
          302620.3000000001,
          141932.61000000002,
          139692.1199999999,
          125931.79,
          58209.15999999999,
          1791.73,
          181402.58000000007,
          154597.18000000017,
          322274.52999999985,
          197548.85999999987,
          229320.95999999993,
          164774.68000000002,
          3249.0800000000004,
          182066.14,
          372110.94000000006,
          547488.13,
          277405.26000000024,
          241462.52000000016,
          71930.42999999998,
          2927.5,
          65574.89,
          277468.3300000002,
          104175.99999999994,
          192121.3700000001,
          318029.9599999999,
          119539.62000000002,
          4536.84,
          132526.80000000002,
          223573.47000000023,
          357899.2000000001,
          211011.92,
          215702.32000000015,
          94046.11,
          1420.1,
          75822.81999999995,
          316954.6799999998,
          247478.74000000008,
          255219.67,
          214827.21999999977,
          138510.78999999995,
          10835.129999999996,
          5613.330000000001,
          167968.59,
          461757.5200000004,
          451794.66999999975,
          233922.76,
          120903.71000000004,
          2537.1800000000003,
          2346.77,
          225998.09999999995,
          458308.73999999976,
          255598.29999999987,
          181737.04999999996,
          51036.04,
          975.2900000000002,
          98568.49999999996,
          114800.49,
          217105.67,
          161109.6000000001,
          127628.25,
          66601.68999999997,
          891.9300000000001,
          135446.8200000001,
          260460.35999999984,
          216072.59,
          285894.76999999984,
          140398.18,
          74373.19000000002,
          822.4300000000001,
          3011.3500000000004,
          259133.14000000007,
          678253.58,
          299898.6300000003,
          273251.6800000001,
          28069.889999999992,
          2300.45,
          427617.3699999994,
          960.2000000000002,
          5016.09,
          1353.4,
          96886.39,
          1827.23,
          101045.42999999998,
          2088.02,
          1416.4000000000003,
          323508.76,
          227678.29000000007,
          212304.22999999995,
          4636.450000000001,
          4929.86,
          309224.7100000003,
          299849.77999999974,
          209563.46000000008,
          199636.85999999996,
          202792.50000000003,
          7220.959999999999,
          256.71000000000004,
          212900.1399999999,
          279071.48999999993,
          187756.04999999984,
          160306.72999999998,
          125570.50000000006,
          1960.13,
          1966.3,
          210278.19,
          339962.2700000006,
          279733.3200000001,
          4960.41,
          485005.32999999984,
          3265.17,
          6665.96,
          734550.9799999997,
          386621.75000000023,
          397406.1900000002,
          466567.9300000002,
          394727.80000000034,
          1324.81,
          367.86,
          292937.9400000004,
          445671.5999999997,
          253215.5199999997,
          343709.36,
          173153.94000000006,
          4693.66,
          1274.1799999999998,
          187754.62000000005,
          402958.23999999993,
          355844.1299999999,
          171050.49999999994,
          1252.99,
          0,
          0,
          193306.07999999993,
          282343.9499999996,
          164729.95,
          339354.2500000002,
          468596.81000000023,
          3233.19,
          3175.7600000000007,
          1737.7199999999998,
          1886.25,
          505058.0199999999,
          529557.6900000001,
          265596.86,
          2186.67,
          2127.94
         ]
        }
       ],
       "layout": {
        "autosize": true,
        "template": {
         "data": {
          "bar": [
           {
            "error_x": {
             "color": "#2a3f5f"
            },
            "error_y": {
             "color": "#2a3f5f"
            },
            "marker": {
             "line": {
              "color": "#E5ECF6",
              "width": 0.5
             },
             "pattern": {
              "fillmode": "overlay",
              "size": 10,
              "solidity": 0.2
             }
            },
            "type": "bar"
           }
          ],
          "barpolar": [
           {
            "marker": {
             "line": {
              "color": "#E5ECF6",
              "width": 0.5
             },
             "pattern": {
              "fillmode": "overlay",
              "size": 10,
              "solidity": 0.2
             }
            },
            "type": "barpolar"
           }
          ],
          "carpet": [
           {
            "aaxis": {
             "endlinecolor": "#2a3f5f",
             "gridcolor": "white",
             "linecolor": "white",
             "minorgridcolor": "white",
             "startlinecolor": "#2a3f5f"
            },
            "baxis": {
             "endlinecolor": "#2a3f5f",
             "gridcolor": "white",
             "linecolor": "white",
             "minorgridcolor": "white",
             "startlinecolor": "#2a3f5f"
            },
            "type": "carpet"
           }
          ],
          "choropleth": [
           {
            "colorbar": {
             "outlinewidth": 0,
             "ticks": ""
            },
            "type": "choropleth"
           }
          ],
          "contour": [
           {
            "colorbar": {
             "outlinewidth": 0,
             "ticks": ""
            },
            "colorscale": [
             [
              0,
              "#0d0887"
             ],
             [
              0.1111111111111111,
              "#46039f"
             ],
             [
              0.2222222222222222,
              "#7201a8"
             ],
             [
              0.3333333333333333,
              "#9c179e"
             ],
             [
              0.4444444444444444,
              "#bd3786"
             ],
             [
              0.5555555555555556,
              "#d8576b"
             ],
             [
              0.6666666666666666,
              "#ed7953"
             ],
             [
              0.7777777777777778,
              "#fb9f3a"
             ],
             [
              0.8888888888888888,
              "#fdca26"
             ],
             [
              1,
              "#f0f921"
             ]
            ],
            "type": "contour"
           }
          ],
          "contourcarpet": [
           {
            "colorbar": {
             "outlinewidth": 0,
             "ticks": ""
            },
            "type": "contourcarpet"
           }
          ],
          "heatmap": [
           {
            "colorbar": {
             "outlinewidth": 0,
             "ticks": ""
            },
            "colorscale": [
             [
              0,
              "#0d0887"
             ],
             [
              0.1111111111111111,
              "#46039f"
             ],
             [
              0.2222222222222222,
              "#7201a8"
             ],
             [
              0.3333333333333333,
              "#9c179e"
             ],
             [
              0.4444444444444444,
              "#bd3786"
             ],
             [
              0.5555555555555556,
              "#d8576b"
             ],
             [
              0.6666666666666666,
              "#ed7953"
             ],
             [
              0.7777777777777778,
              "#fb9f3a"
             ],
             [
              0.8888888888888888,
              "#fdca26"
             ],
             [
              1,
              "#f0f921"
             ]
            ],
            "type": "heatmap"
           }
          ],
          "heatmapgl": [
           {
            "colorbar": {
             "outlinewidth": 0,
             "ticks": ""
            },
            "colorscale": [
             [
              0,
              "#0d0887"
             ],
             [
              0.1111111111111111,
              "#46039f"
             ],
             [
              0.2222222222222222,
              "#7201a8"
             ],
             [
              0.3333333333333333,
              "#9c179e"
             ],
             [
              0.4444444444444444,
              "#bd3786"
             ],
             [
              0.5555555555555556,
              "#d8576b"
             ],
             [
              0.6666666666666666,
              "#ed7953"
             ],
             [
              0.7777777777777778,
              "#fb9f3a"
             ],
             [
              0.8888888888888888,
              "#fdca26"
             ],
             [
              1,
              "#f0f921"
             ]
            ],
            "type": "heatmapgl"
           }
          ],
          "histogram": [
           {
            "marker": {
             "pattern": {
              "fillmode": "overlay",
              "size": 10,
              "solidity": 0.2
             }
            },
            "type": "histogram"
           }
          ],
          "histogram2d": [
           {
            "colorbar": {
             "outlinewidth": 0,
             "ticks": ""
            },
            "colorscale": [
             [
              0,
              "#0d0887"
             ],
             [
              0.1111111111111111,
              "#46039f"
             ],
             [
              0.2222222222222222,
              "#7201a8"
             ],
             [
              0.3333333333333333,
              "#9c179e"
             ],
             [
              0.4444444444444444,
              "#bd3786"
             ],
             [
              0.5555555555555556,
              "#d8576b"
             ],
             [
              0.6666666666666666,
              "#ed7953"
             ],
             [
              0.7777777777777778,
              "#fb9f3a"
             ],
             [
              0.8888888888888888,
              "#fdca26"
             ],
             [
              1,
              "#f0f921"
             ]
            ],
            "type": "histogram2d"
           }
          ],
          "histogram2dcontour": [
           {
            "colorbar": {
             "outlinewidth": 0,
             "ticks": ""
            },
            "colorscale": [
             [
              0,
              "#0d0887"
             ],
             [
              0.1111111111111111,
              "#46039f"
             ],
             [
              0.2222222222222222,
              "#7201a8"
             ],
             [
              0.3333333333333333,
              "#9c179e"
             ],
             [
              0.4444444444444444,
              "#bd3786"
             ],
             [
              0.5555555555555556,
              "#d8576b"
             ],
             [
              0.6666666666666666,
              "#ed7953"
             ],
             [
              0.7777777777777778,
              "#fb9f3a"
             ],
             [
              0.8888888888888888,
              "#fdca26"
             ],
             [
              1,
              "#f0f921"
             ]
            ],
            "type": "histogram2dcontour"
           }
          ],
          "mesh3d": [
           {
            "colorbar": {
             "outlinewidth": 0,
             "ticks": ""
            },
            "type": "mesh3d"
           }
          ],
          "parcoords": [
           {
            "line": {
             "colorbar": {
              "outlinewidth": 0,
              "ticks": ""
             }
            },
            "type": "parcoords"
           }
          ],
          "pie": [
           {
            "automargin": true,
            "type": "pie"
           }
          ],
          "scatter": [
           {
            "fillpattern": {
             "fillmode": "overlay",
             "size": 10,
             "solidity": 0.2
            },
            "type": "scatter"
           }
          ],
          "scatter3d": [
           {
            "line": {
             "colorbar": {
              "outlinewidth": 0,
              "ticks": ""
             }
            },
            "marker": {
             "colorbar": {
              "outlinewidth": 0,
              "ticks": ""
             }
            },
            "type": "scatter3d"
           }
          ],
          "scattercarpet": [
           {
            "marker": {
             "colorbar": {
              "outlinewidth": 0,
              "ticks": ""
             }
            },
            "type": "scattercarpet"
           }
          ],
          "scattergeo": [
           {
            "marker": {
             "colorbar": {
              "outlinewidth": 0,
              "ticks": ""
             }
            },
            "type": "scattergeo"
           }
          ],
          "scattergl": [
           {
            "marker": {
             "colorbar": {
              "outlinewidth": 0,
              "ticks": ""
             }
            },
            "type": "scattergl"
           }
          ],
          "scattermapbox": [
           {
            "marker": {
             "colorbar": {
              "outlinewidth": 0,
              "ticks": ""
             }
            },
            "type": "scattermapbox"
           }
          ],
          "scatterpolar": [
           {
            "marker": {
             "colorbar": {
              "outlinewidth": 0,
              "ticks": ""
             }
            },
            "type": "scatterpolar"
           }
          ],
          "scatterpolargl": [
           {
            "marker": {
             "colorbar": {
              "outlinewidth": 0,
              "ticks": ""
             }
            },
            "type": "scatterpolargl"
           }
          ],
          "scatterternary": [
           {
            "marker": {
             "colorbar": {
              "outlinewidth": 0,
              "ticks": ""
             }
            },
            "type": "scatterternary"
           }
          ],
          "surface": [
           {
            "colorbar": {
             "outlinewidth": 0,
             "ticks": ""
            },
            "colorscale": [
             [
              0,
              "#0d0887"
             ],
             [
              0.1111111111111111,
              "#46039f"
             ],
             [
              0.2222222222222222,
              "#7201a8"
             ],
             [
              0.3333333333333333,
              "#9c179e"
             ],
             [
              0.4444444444444444,
              "#bd3786"
             ],
             [
              0.5555555555555556,
              "#d8576b"
             ],
             [
              0.6666666666666666,
              "#ed7953"
             ],
             [
              0.7777777777777778,
              "#fb9f3a"
             ],
             [
              0.8888888888888888,
              "#fdca26"
             ],
             [
              1,
              "#f0f921"
             ]
            ],
            "type": "surface"
           }
          ],
          "table": [
           {
            "cells": {
             "fill": {
              "color": "#EBF0F8"
             },
             "line": {
              "color": "white"
             }
            },
            "header": {
             "fill": {
              "color": "#C8D4E3"
             },
             "line": {
              "color": "white"
             }
            },
            "type": "table"
           }
          ]
         },
         "layout": {
          "annotationdefaults": {
           "arrowcolor": "#2a3f5f",
           "arrowhead": 0,
           "arrowwidth": 1
          },
          "autotypenumbers": "strict",
          "coloraxis": {
           "colorbar": {
            "outlinewidth": 0,
            "ticks": ""
           }
          },
          "colorscale": {
           "diverging": [
            [
             0,
             "#8e0152"
            ],
            [
             0.1,
             "#c51b7d"
            ],
            [
             0.2,
             "#de77ae"
            ],
            [
             0.3,
             "#f1b6da"
            ],
            [
             0.4,
             "#fde0ef"
            ],
            [
             0.5,
             "#f7f7f7"
            ],
            [
             0.6,
             "#e6f5d0"
            ],
            [
             0.7,
             "#b8e186"
            ],
            [
             0.8,
             "#7fbc41"
            ],
            [
             0.9,
             "#4d9221"
            ],
            [
             1,
             "#276419"
            ]
           ],
           "sequential": [
            [
             0,
             "#0d0887"
            ],
            [
             0.1111111111111111,
             "#46039f"
            ],
            [
             0.2222222222222222,
             "#7201a8"
            ],
            [
             0.3333333333333333,
             "#9c179e"
            ],
            [
             0.4444444444444444,
             "#bd3786"
            ],
            [
             0.5555555555555556,
             "#d8576b"
            ],
            [
             0.6666666666666666,
             "#ed7953"
            ],
            [
             0.7777777777777778,
             "#fb9f3a"
            ],
            [
             0.8888888888888888,
             "#fdca26"
            ],
            [
             1,
             "#f0f921"
            ]
           ],
           "sequentialminus": [
            [
             0,
             "#0d0887"
            ],
            [
             0.1111111111111111,
             "#46039f"
            ],
            [
             0.2222222222222222,
             "#7201a8"
            ],
            [
             0.3333333333333333,
             "#9c179e"
            ],
            [
             0.4444444444444444,
             "#bd3786"
            ],
            [
             0.5555555555555556,
             "#d8576b"
            ],
            [
             0.6666666666666666,
             "#ed7953"
            ],
            [
             0.7777777777777778,
             "#fb9f3a"
            ],
            [
             0.8888888888888888,
             "#fdca26"
            ],
            [
             1,
             "#f0f921"
            ]
           ]
          },
          "colorway": [
           "#636efa",
           "#EF553B",
           "#00cc96",
           "#ab63fa",
           "#FFA15A",
           "#19d3f3",
           "#FF6692",
           "#B6E880",
           "#FF97FF",
           "#FECB52"
          ],
          "font": {
           "color": "#2a3f5f"
          },
          "geo": {
           "bgcolor": "white",
           "lakecolor": "white",
           "landcolor": "#E5ECF6",
           "showlakes": true,
           "showland": true,
           "subunitcolor": "white"
          },
          "hoverlabel": {
           "align": "left"
          },
          "hovermode": "closest",
          "mapbox": {
           "style": "light"
          },
          "paper_bgcolor": "white",
          "plot_bgcolor": "#E5ECF6",
          "polar": {
           "angularaxis": {
            "gridcolor": "white",
            "linecolor": "white",
            "ticks": ""
           },
           "bgcolor": "#E5ECF6",
           "radialaxis": {
            "gridcolor": "white",
            "linecolor": "white",
            "ticks": ""
           }
          },
          "scene": {
           "xaxis": {
            "backgroundcolor": "#E5ECF6",
            "gridcolor": "white",
            "gridwidth": 2,
            "linecolor": "white",
            "showbackground": true,
            "ticks": "",
            "zerolinecolor": "white"
           },
           "yaxis": {
            "backgroundcolor": "#E5ECF6",
            "gridcolor": "white",
            "gridwidth": 2,
            "linecolor": "white",
            "showbackground": true,
            "ticks": "",
            "zerolinecolor": "white"
           },
           "zaxis": {
            "backgroundcolor": "#E5ECF6",
            "gridcolor": "white",
            "gridwidth": 2,
            "linecolor": "white",
            "showbackground": true,
            "ticks": "",
            "zerolinecolor": "white"
           }
          },
          "shapedefaults": {
           "line": {
            "color": "#2a3f5f"
           }
          },
          "ternary": {
           "aaxis": {
            "gridcolor": "white",
            "linecolor": "white",
            "ticks": ""
           },
           "baxis": {
            "gridcolor": "white",
            "linecolor": "white",
            "ticks": ""
           },
           "bgcolor": "#E5ECF6",
           "caxis": {
            "gridcolor": "white",
            "linecolor": "white",
            "ticks": ""
           }
          },
          "title": {
           "x": 0.05
          },
          "xaxis": {
           "automargin": true,
           "gridcolor": "white",
           "linecolor": "white",
           "ticks": "",
           "title": {
            "standoff": 15
           },
           "zerolinecolor": "white",
           "zerolinewidth": 2
          },
          "yaxis": {
           "automargin": true,
           "gridcolor": "white",
           "linecolor": "white",
           "ticks": "",
           "title": {
            "standoff": 15
           },
           "zerolinecolor": "white",
           "zerolinewidth": 2
          }
         }
        },
        "xaxis": {
         "autorange": true,
         "range": [
          "2023-04-01",
          "2023-12-31"
         ],
         "type": "date"
        },
        "yaxis": {
         "autorange": true,
         "range": [
          -58752.26500000004,
          1116293.0350000008
         ],
         "type": "linear"
        }
       }
      },
      "text/html": [
       "<div>                            <div id=\"b099ad4a-3717-44e2-baaa-3776ee91e4a1\" class=\"plotly-graph-div\" style=\"height:525px; width:100%;\"></div>            <script type=\"text/javascript\">                require([\"plotly\"], function(Plotly) {                    window.PLOTLYENV=window.PLOTLYENV || {};                                    if (document.getElementById(\"b099ad4a-3717-44e2-baaa-3776ee91e4a1\")) {                    Plotly.newPlot(                        \"b099ad4a-3717-44e2-baaa-3776ee91e4a1\",                        [{\"x\":[\"2023-04-01T00:00:00\",\"2023-04-02T00:00:00\",\"2023-04-03T00:00:00\",\"2023-04-04T00:00:00\",\"2023-04-05T00:00:00\",\"2023-04-06T00:00:00\",\"2023-04-07T00:00:00\",\"2023-04-08T00:00:00\",\"2023-04-09T00:00:00\",\"2023-04-10T00:00:00\",\"2023-04-11T00:00:00\",\"2023-04-12T00:00:00\",\"2023-04-13T00:00:00\",\"2023-04-14T00:00:00\",\"2023-04-15T00:00:00\",\"2023-04-16T00:00:00\",\"2023-04-17T00:00:00\",\"2023-04-18T00:00:00\",\"2023-04-19T00:00:00\",\"2023-04-20T00:00:00\",\"2023-04-21T00:00:00\",\"2023-04-22T00:00:00\",\"2023-04-23T00:00:00\",\"2023-04-24T00:00:00\",\"2023-04-25T00:00:00\",\"2023-04-26T00:00:00\",\"2023-04-27T00:00:00\",\"2023-04-28T00:00:00\",\"2023-04-29T00:00:00\",\"2023-04-30T00:00:00\",\"2023-05-01T00:00:00\",\"2023-05-02T00:00:00\",\"2023-05-03T00:00:00\",\"2023-05-04T00:00:00\",\"2023-05-05T00:00:00\",\"2023-05-06T00:00:00\",\"2023-05-07T00:00:00\",\"2023-05-08T00:00:00\",\"2023-05-09T00:00:00\",\"2023-05-10T00:00:00\",\"2023-05-11T00:00:00\",\"2023-05-12T00:00:00\",\"2023-05-13T00:00:00\",\"2023-05-14T00:00:00\",\"2023-05-15T00:00:00\",\"2023-05-16T00:00:00\",\"2023-05-17T00:00:00\",\"2023-05-18T00:00:00\",\"2023-05-19T00:00:00\",\"2023-05-20T00:00:00\",\"2023-05-21T00:00:00\",\"2023-05-22T00:00:00\",\"2023-05-23T00:00:00\",\"2023-05-24T00:00:00\",\"2023-05-25T00:00:00\",\"2023-05-26T00:00:00\",\"2023-05-27T00:00:00\",\"2023-05-28T00:00:00\",\"2023-05-29T00:00:00\",\"2023-05-30T00:00:00\",\"2023-05-31T00:00:00\",\"2023-06-01T00:00:00\",\"2023-06-02T00:00:00\",\"2023-06-03T00:00:00\",\"2023-06-04T00:00:00\",\"2023-06-05T00:00:00\",\"2023-06-06T00:00:00\",\"2023-06-07T00:00:00\",\"2023-06-08T00:00:00\",\"2023-06-09T00:00:00\",\"2023-06-10T00:00:00\",\"2023-06-11T00:00:00\",\"2023-06-12T00:00:00\",\"2023-06-13T00:00:00\",\"2023-06-14T00:00:00\",\"2023-06-15T00:00:00\",\"2023-06-16T00:00:00\",\"2023-06-17T00:00:00\",\"2023-06-18T00:00:00\",\"2023-06-19T00:00:00\",\"2023-06-20T00:00:00\",\"2023-06-21T00:00:00\",\"2023-06-22T00:00:00\",\"2023-06-23T00:00:00\",\"2023-06-24T00:00:00\",\"2023-06-25T00:00:00\",\"2023-06-26T00:00:00\",\"2023-06-27T00:00:00\",\"2023-06-28T00:00:00\",\"2023-06-29T00:00:00\",\"2023-06-30T00:00:00\",\"2023-07-01T00:00:00\",\"2023-07-02T00:00:00\",\"2023-07-03T00:00:00\",\"2023-07-04T00:00:00\",\"2023-07-05T00:00:00\",\"2023-07-06T00:00:00\",\"2023-07-07T00:00:00\",\"2023-07-08T00:00:00\",\"2023-07-09T00:00:00\",\"2023-07-10T00:00:00\",\"2023-07-11T00:00:00\",\"2023-07-12T00:00:00\",\"2023-07-13T00:00:00\",\"2023-07-14T00:00:00\",\"2023-07-15T00:00:00\",\"2023-07-16T00:00:00\",\"2023-07-17T00:00:00\",\"2023-07-18T00:00:00\",\"2023-07-19T00:00:00\",\"2023-07-20T00:00:00\",\"2023-07-21T00:00:00\",\"2023-07-22T00:00:00\",\"2023-07-23T00:00:00\",\"2023-07-24T00:00:00\",\"2023-07-25T00:00:00\",\"2023-07-26T00:00:00\",\"2023-07-27T00:00:00\",\"2023-07-28T00:00:00\",\"2023-07-29T00:00:00\",\"2023-07-30T00:00:00\",\"2023-07-31T00:00:00\",\"2023-08-01T00:00:00\",\"2023-08-02T00:00:00\",\"2023-08-03T00:00:00\",\"2023-08-04T00:00:00\",\"2023-08-05T00:00:00\",\"2023-08-06T00:00:00\",\"2023-08-07T00:00:00\",\"2023-08-08T00:00:00\",\"2023-08-09T00:00:00\",\"2023-08-10T00:00:00\",\"2023-08-11T00:00:00\",\"2023-08-12T00:00:00\",\"2023-08-13T00:00:00\",\"2023-08-14T00:00:00\",\"2023-08-15T00:00:00\",\"2023-08-16T00:00:00\",\"2023-08-17T00:00:00\",\"2023-08-18T00:00:00\",\"2023-08-19T00:00:00\",\"2023-08-20T00:00:00\",\"2023-08-21T00:00:00\",\"2023-08-22T00:00:00\",\"2023-08-23T00:00:00\",\"2023-08-24T00:00:00\",\"2023-08-25T00:00:00\",\"2023-08-26T00:00:00\",\"2023-08-27T00:00:00\",\"2023-08-28T00:00:00\",\"2023-08-29T00:00:00\",\"2023-08-30T00:00:00\",\"2023-08-31T00:00:00\",\"2023-09-01T00:00:00\",\"2023-09-02T00:00:00\",\"2023-09-03T00:00:00\",\"2023-09-04T00:00:00\",\"2023-09-05T00:00:00\",\"2023-09-06T00:00:00\",\"2023-09-07T00:00:00\",\"2023-09-08T00:00:00\",\"2023-09-09T00:00:00\",\"2023-09-10T00:00:00\",\"2023-09-11T00:00:00\",\"2023-09-12T00:00:00\",\"2023-09-13T00:00:00\",\"2023-09-14T00:00:00\",\"2023-09-15T00:00:00\",\"2023-09-16T00:00:00\",\"2023-09-17T00:00:00\",\"2023-09-18T00:00:00\",\"2023-09-19T00:00:00\",\"2023-09-20T00:00:00\",\"2023-09-21T00:00:00\",\"2023-09-22T00:00:00\",\"2023-09-23T00:00:00\",\"2023-09-24T00:00:00\",\"2023-09-25T00:00:00\",\"2023-09-26T00:00:00\",\"2023-09-27T00:00:00\",\"2023-09-28T00:00:00\",\"2023-09-29T00:00:00\",\"2023-09-30T00:00:00\",\"2023-10-01T00:00:00\",\"2023-10-07T00:00:00\",\"2023-10-08T00:00:00\",\"2023-10-14T00:00:00\",\"2023-10-15T00:00:00\",\"2023-10-21T00:00:00\",\"2023-10-22T00:00:00\",\"2023-10-28T00:00:00\",\"2023-10-29T00:00:00\",\"2023-11-01T00:00:00\",\"2023-11-02T00:00:00\",\"2023-11-03T00:00:00\",\"2023-11-04T00:00:00\",\"2023-11-05T00:00:00\",\"2023-11-06T00:00:00\",\"2023-11-07T00:00:00\",\"2023-11-08T00:00:00\",\"2023-11-09T00:00:00\",\"2023-11-10T00:00:00\",\"2023-11-11T00:00:00\",\"2023-11-12T00:00:00\",\"2023-11-13T00:00:00\",\"2023-11-14T00:00:00\",\"2023-11-15T00:00:00\",\"2023-11-16T00:00:00\",\"2023-11-17T00:00:00\",\"2023-11-18T00:00:00\",\"2023-11-19T00:00:00\",\"2023-11-20T00:00:00\",\"2023-11-21T00:00:00\",\"2023-11-22T00:00:00\",\"2023-11-23T00:00:00\",\"2023-11-24T00:00:00\",\"2023-11-25T00:00:00\",\"2023-11-26T00:00:00\",\"2023-11-27T00:00:00\",\"2023-11-28T00:00:00\",\"2023-11-29T00:00:00\",\"2023-11-30T00:00:00\",\"2023-12-01T00:00:00\",\"2023-12-02T00:00:00\",\"2023-12-03T00:00:00\",\"2023-12-04T00:00:00\",\"2023-12-05T00:00:00\",\"2023-12-06T00:00:00\",\"2023-12-07T00:00:00\",\"2023-12-08T00:00:00\",\"2023-12-09T00:00:00\",\"2023-12-10T00:00:00\",\"2023-12-11T00:00:00\",\"2023-12-12T00:00:00\",\"2023-12-13T00:00:00\",\"2023-12-14T00:00:00\",\"2023-12-15T00:00:00\",\"2023-12-16T00:00:00\",\"2023-12-17T00:00:00\",\"2023-12-18T00:00:00\",\"2023-12-19T00:00:00\",\"2023-12-20T00:00:00\",\"2023-12-21T00:00:00\",\"2023-12-22T00:00:00\",\"2023-12-23T00:00:00\",\"2023-12-24T00:00:00\",\"2023-12-25T00:00:00\",\"2023-12-26T00:00:00\",\"2023-12-27T00:00:00\",\"2023-12-28T00:00:00\",\"2023-12-29T00:00:00\",\"2023-12-30T00:00:00\",\"2023-12-31T00:00:00\"],\"y\":[0.0,170487.18000000014,250508.04000000007,611955.3100000005,282503.78999999986,98214.34,0.0,133.93,0.0,146062.75000000006,478821.4699999998,415103.3399999996,232508.3500000001,196760.17000000004,1016.54,111580.14,279423.0499999999,204840.37,151334.41999999995,232323.95999999993,128984.94000000005,398.31,130016.86,278451.20999999996,437898.0800000001,106577.70000000004,198191.03999999995,225681.10999999996,99.07,1030.05,463700.8299999996,1057540.7700000007,407913.7599999997,270604.12999999995,84094.26999999997,58.47,0.0,263501.08999999997,579876.2999999992,322877.3200000002,324894.59999999986,203198.8599999999,937.02,302809.1000000002,652392.6200000002,362814.31999999983,155240.32999999993,126419.33000000005,189330.4,0.0,162694.8300000001,346359.56999999983,302778.0,129235.52999999993,248586.58,135137.17000000004,1337.7199999999998,0.0,234660.88000000003,703013.5899999987,503461.20999999944,352677.9600000001,99460.03999999996,208.09,140697.44000000003,329173.4499999998,189991.96999999997,178640.42999999982,203085.73000000007,60555.459999999985,0.0,68031.79,242836.61999999985,145274.09,178454.54000000004,66537.73000000001,0.0,25.73,39.63,129154.36000000002,571708.3999999994,197859.55000000008,160012.18000000002,98868.89,621.76,149017.38000000015,396878.7500000003,248626.9999999999,266544.77000000014,371169.4000000001,166682.69999999995,4668.38,283122.21999999986,267358.41999999987,255003.85999999984,449238.23999999993,197092.47,106157.35000000003,747.9800000000001,167831.75000000003,355370.72999999975,205935.41999999984,123584.61000000002,134368.14000000004,58783.56000000001,1347.5200000000002,80543.62000000002,302620.3000000001,141932.61000000002,139692.1199999999,125931.79,58209.15999999999,1791.73,181402.58000000007,154597.18000000017,322274.52999999985,197548.85999999987,229320.95999999993,164774.68000000002,3249.0800000000004,182066.14,372110.94000000006,547488.13,277405.26000000024,241462.52000000016,71930.42999999998,2927.5,65574.89,277468.3300000002,104175.99999999994,192121.3700000001,318029.9599999999,119539.62000000002,4536.84,132526.80000000002,223573.47000000023,357899.2000000001,211011.92,215702.32000000015,94046.11,1420.1,75822.81999999995,316954.6799999998,247478.74000000008,255219.67,214827.21999999977,138510.78999999995,10835.129999999996,5613.330000000001,167968.59,461757.5200000004,451794.66999999975,233922.76,120903.71000000004,2537.1800000000003,2346.77,225998.09999999995,458308.73999999976,255598.29999999987,181737.04999999996,51036.04,975.2900000000002,98568.49999999996,114800.49,217105.67,161109.6000000001,127628.25,66601.68999999997,891.9300000000001,135446.8200000001,260460.35999999984,216072.59,285894.76999999984,140398.18,74373.19000000002,822.4300000000001,3011.3500000000004,259133.14000000007,678253.58,299898.6300000003,273251.6800000001,28069.889999999992,2300.45,427617.3699999994,960.2000000000002,5016.09,1353.4,96886.39,1827.23,101045.42999999998,2088.02,1416.4000000000003,323508.76,227678.29000000007,212304.22999999995,4636.450000000001,4929.86,309224.7100000003,299849.77999999974,209563.46000000008,199636.85999999996,202792.50000000003,7220.959999999999,256.71000000000004,212900.1399999999,279071.48999999993,187756.04999999984,160306.72999999998,125570.50000000006,1960.13,1966.3,210278.19,339962.2700000006,279733.3200000001,4960.41,485005.32999999984,3265.17,6665.96,734550.9799999997,386621.75000000023,397406.1900000002,466567.9300000002,394727.80000000034,1324.81,367.86,292937.9400000004,445671.5999999997,253215.5199999997,343709.36,173153.94000000006,4693.66,1274.1799999999998,187754.62000000005,402958.23999999993,355844.1299999999,171050.49999999994,1252.99,0.0,0.0,193306.07999999993,282343.9499999996,164729.95,339354.2500000002,468596.81000000023,3233.19,3175.7600000000007,1737.7199999999998,1886.25,505058.0199999999,529557.6900000001,265596.86,2186.67,2127.94],\"type\":\"scatter\"}],                        {\"template\":{\"data\":{\"histogram2dcontour\":[{\"type\":\"histogram2dcontour\",\"colorbar\":{\"outlinewidth\":0,\"ticks\":\"\"},\"colorscale\":[[0.0,\"#0d0887\"],[0.1111111111111111,\"#46039f\"],[0.2222222222222222,\"#7201a8\"],[0.3333333333333333,\"#9c179e\"],[0.4444444444444444,\"#bd3786\"],[0.5555555555555556,\"#d8576b\"],[0.6666666666666666,\"#ed7953\"],[0.7777777777777778,\"#fb9f3a\"],[0.8888888888888888,\"#fdca26\"],[1.0,\"#f0f921\"]]}],\"choropleth\":[{\"type\":\"choropleth\",\"colorbar\":{\"outlinewidth\":0,\"ticks\":\"\"}}],\"histogram2d\":[{\"type\":\"histogram2d\",\"colorbar\":{\"outlinewidth\":0,\"ticks\":\"\"},\"colorscale\":[[0.0,\"#0d0887\"],[0.1111111111111111,\"#46039f\"],[0.2222222222222222,\"#7201a8\"],[0.3333333333333333,\"#9c179e\"],[0.4444444444444444,\"#bd3786\"],[0.5555555555555556,\"#d8576b\"],[0.6666666666666666,\"#ed7953\"],[0.7777777777777778,\"#fb9f3a\"],[0.8888888888888888,\"#fdca26\"],[1.0,\"#f0f921\"]]}],\"heatmap\":[{\"type\":\"heatmap\",\"colorbar\":{\"outlinewidth\":0,\"ticks\":\"\"},\"colorscale\":[[0.0,\"#0d0887\"],[0.1111111111111111,\"#46039f\"],[0.2222222222222222,\"#7201a8\"],[0.3333333333333333,\"#9c179e\"],[0.4444444444444444,\"#bd3786\"],[0.5555555555555556,\"#d8576b\"],[0.6666666666666666,\"#ed7953\"],[0.7777777777777778,\"#fb9f3a\"],[0.8888888888888888,\"#fdca26\"],[1.0,\"#f0f921\"]]}],\"heatmapgl\":[{\"type\":\"heatmapgl\",\"colorbar\":{\"outlinewidth\":0,\"ticks\":\"\"},\"colorscale\":[[0.0,\"#0d0887\"],[0.1111111111111111,\"#46039f\"],[0.2222222222222222,\"#7201a8\"],[0.3333333333333333,\"#9c179e\"],[0.4444444444444444,\"#bd3786\"],[0.5555555555555556,\"#d8576b\"],[0.6666666666666666,\"#ed7953\"],[0.7777777777777778,\"#fb9f3a\"],[0.8888888888888888,\"#fdca26\"],[1.0,\"#f0f921\"]]}],\"contourcarpet\":[{\"type\":\"contourcarpet\",\"colorbar\":{\"outlinewidth\":0,\"ticks\":\"\"}}],\"contour\":[{\"type\":\"contour\",\"colorbar\":{\"outlinewidth\":0,\"ticks\":\"\"},\"colorscale\":[[0.0,\"#0d0887\"],[0.1111111111111111,\"#46039f\"],[0.2222222222222222,\"#7201a8\"],[0.3333333333333333,\"#9c179e\"],[0.4444444444444444,\"#bd3786\"],[0.5555555555555556,\"#d8576b\"],[0.6666666666666666,\"#ed7953\"],[0.7777777777777778,\"#fb9f3a\"],[0.8888888888888888,\"#fdca26\"],[1.0,\"#f0f921\"]]}],\"surface\":[{\"type\":\"surface\",\"colorbar\":{\"outlinewidth\":0,\"ticks\":\"\"},\"colorscale\":[[0.0,\"#0d0887\"],[0.1111111111111111,\"#46039f\"],[0.2222222222222222,\"#7201a8\"],[0.3333333333333333,\"#9c179e\"],[0.4444444444444444,\"#bd3786\"],[0.5555555555555556,\"#d8576b\"],[0.6666666666666666,\"#ed7953\"],[0.7777777777777778,\"#fb9f3a\"],[0.8888888888888888,\"#fdca26\"],[1.0,\"#f0f921\"]]}],\"mesh3d\":[{\"type\":\"mesh3d\",\"colorbar\":{\"outlinewidth\":0,\"ticks\":\"\"}}],\"scatter\":[{\"fillpattern\":{\"fillmode\":\"overlay\",\"size\":10,\"solidity\":0.2},\"type\":\"scatter\"}],\"parcoords\":[{\"type\":\"parcoords\",\"line\":{\"colorbar\":{\"outlinewidth\":0,\"ticks\":\"\"}}}],\"scatterpolargl\":[{\"type\":\"scatterpolargl\",\"marker\":{\"colorbar\":{\"outlinewidth\":0,\"ticks\":\"\"}}}],\"bar\":[{\"error_x\":{\"color\":\"#2a3f5f\"},\"error_y\":{\"color\":\"#2a3f5f\"},\"marker\":{\"line\":{\"color\":\"#E5ECF6\",\"width\":0.5},\"pattern\":{\"fillmode\":\"overlay\",\"size\":10,\"solidity\":0.2}},\"type\":\"bar\"}],\"scattergeo\":[{\"type\":\"scattergeo\",\"marker\":{\"colorbar\":{\"outlinewidth\":0,\"ticks\":\"\"}}}],\"scatterpolar\":[{\"type\":\"scatterpolar\",\"marker\":{\"colorbar\":{\"outlinewidth\":0,\"ticks\":\"\"}}}],\"histogram\":[{\"marker\":{\"pattern\":{\"fillmode\":\"overlay\",\"size\":10,\"solidity\":0.2}},\"type\":\"histogram\"}],\"scattergl\":[{\"type\":\"scattergl\",\"marker\":{\"colorbar\":{\"outlinewidth\":0,\"ticks\":\"\"}}}],\"scatter3d\":[{\"type\":\"scatter3d\",\"line\":{\"colorbar\":{\"outlinewidth\":0,\"ticks\":\"\"}},\"marker\":{\"colorbar\":{\"outlinewidth\":0,\"ticks\":\"\"}}}],\"scattermapbox\":[{\"type\":\"scattermapbox\",\"marker\":{\"colorbar\":{\"outlinewidth\":0,\"ticks\":\"\"}}}],\"scatterternary\":[{\"type\":\"scatterternary\",\"marker\":{\"colorbar\":{\"outlinewidth\":0,\"ticks\":\"\"}}}],\"scattercarpet\":[{\"type\":\"scattercarpet\",\"marker\":{\"colorbar\":{\"outlinewidth\":0,\"ticks\":\"\"}}}],\"carpet\":[{\"aaxis\":{\"endlinecolor\":\"#2a3f5f\",\"gridcolor\":\"white\",\"linecolor\":\"white\",\"minorgridcolor\":\"white\",\"startlinecolor\":\"#2a3f5f\"},\"baxis\":{\"endlinecolor\":\"#2a3f5f\",\"gridcolor\":\"white\",\"linecolor\":\"white\",\"minorgridcolor\":\"white\",\"startlinecolor\":\"#2a3f5f\"},\"type\":\"carpet\"}],\"table\":[{\"cells\":{\"fill\":{\"color\":\"#EBF0F8\"},\"line\":{\"color\":\"white\"}},\"header\":{\"fill\":{\"color\":\"#C8D4E3\"},\"line\":{\"color\":\"white\"}},\"type\":\"table\"}],\"barpolar\":[{\"marker\":{\"line\":{\"color\":\"#E5ECF6\",\"width\":0.5},\"pattern\":{\"fillmode\":\"overlay\",\"size\":10,\"solidity\":0.2}},\"type\":\"barpolar\"}],\"pie\":[{\"automargin\":true,\"type\":\"pie\"}]},\"layout\":{\"autotypenumbers\":\"strict\",\"colorway\":[\"#636efa\",\"#EF553B\",\"#00cc96\",\"#ab63fa\",\"#FFA15A\",\"#19d3f3\",\"#FF6692\",\"#B6E880\",\"#FF97FF\",\"#FECB52\"],\"font\":{\"color\":\"#2a3f5f\"},\"hovermode\":\"closest\",\"hoverlabel\":{\"align\":\"left\"},\"paper_bgcolor\":\"white\",\"plot_bgcolor\":\"#E5ECF6\",\"polar\":{\"bgcolor\":\"#E5ECF6\",\"angularaxis\":{\"gridcolor\":\"white\",\"linecolor\":\"white\",\"ticks\":\"\"},\"radialaxis\":{\"gridcolor\":\"white\",\"linecolor\":\"white\",\"ticks\":\"\"}},\"ternary\":{\"bgcolor\":\"#E5ECF6\",\"aaxis\":{\"gridcolor\":\"white\",\"linecolor\":\"white\",\"ticks\":\"\"},\"baxis\":{\"gridcolor\":\"white\",\"linecolor\":\"white\",\"ticks\":\"\"},\"caxis\":{\"gridcolor\":\"white\",\"linecolor\":\"white\",\"ticks\":\"\"}},\"coloraxis\":{\"colorbar\":{\"outlinewidth\":0,\"ticks\":\"\"}},\"colorscale\":{\"sequential\":[[0.0,\"#0d0887\"],[0.1111111111111111,\"#46039f\"],[0.2222222222222222,\"#7201a8\"],[0.3333333333333333,\"#9c179e\"],[0.4444444444444444,\"#bd3786\"],[0.5555555555555556,\"#d8576b\"],[0.6666666666666666,\"#ed7953\"],[0.7777777777777778,\"#fb9f3a\"],[0.8888888888888888,\"#fdca26\"],[1.0,\"#f0f921\"]],\"sequentialminus\":[[0.0,\"#0d0887\"],[0.1111111111111111,\"#46039f\"],[0.2222222222222222,\"#7201a8\"],[0.3333333333333333,\"#9c179e\"],[0.4444444444444444,\"#bd3786\"],[0.5555555555555556,\"#d8576b\"],[0.6666666666666666,\"#ed7953\"],[0.7777777777777778,\"#fb9f3a\"],[0.8888888888888888,\"#fdca26\"],[1.0,\"#f0f921\"]],\"diverging\":[[0,\"#8e0152\"],[0.1,\"#c51b7d\"],[0.2,\"#de77ae\"],[0.3,\"#f1b6da\"],[0.4,\"#fde0ef\"],[0.5,\"#f7f7f7\"],[0.6,\"#e6f5d0\"],[0.7,\"#b8e186\"],[0.8,\"#7fbc41\"],[0.9,\"#4d9221\"],[1,\"#276419\"]]},\"xaxis\":{\"gridcolor\":\"white\",\"linecolor\":\"white\",\"ticks\":\"\",\"title\":{\"standoff\":15},\"zerolinecolor\":\"white\",\"automargin\":true,\"zerolinewidth\":2},\"yaxis\":{\"gridcolor\":\"white\",\"linecolor\":\"white\",\"ticks\":\"\",\"title\":{\"standoff\":15},\"zerolinecolor\":\"white\",\"automargin\":true,\"zerolinewidth\":2},\"scene\":{\"xaxis\":{\"backgroundcolor\":\"#E5ECF6\",\"gridcolor\":\"white\",\"linecolor\":\"white\",\"showbackground\":true,\"ticks\":\"\",\"zerolinecolor\":\"white\",\"gridwidth\":2},\"yaxis\":{\"backgroundcolor\":\"#E5ECF6\",\"gridcolor\":\"white\",\"linecolor\":\"white\",\"showbackground\":true,\"ticks\":\"\",\"zerolinecolor\":\"white\",\"gridwidth\":2},\"zaxis\":{\"backgroundcolor\":\"#E5ECF6\",\"gridcolor\":\"white\",\"linecolor\":\"white\",\"showbackground\":true,\"ticks\":\"\",\"zerolinecolor\":\"white\",\"gridwidth\":2}},\"shapedefaults\":{\"line\":{\"color\":\"#2a3f5f\"}},\"annotationdefaults\":{\"arrowcolor\":\"#2a3f5f\",\"arrowhead\":0,\"arrowwidth\":1},\"geo\":{\"bgcolor\":\"white\",\"landcolor\":\"#E5ECF6\",\"subunitcolor\":\"white\",\"showland\":true,\"showlakes\":true,\"lakecolor\":\"white\"},\"title\":{\"x\":0.05},\"mapbox\":{\"style\":\"light\"}}}},                        {\"responsive\": true}                    ).then(function(){\n",
       "                            \n",
       "var gd = document.getElementById('b099ad4a-3717-44e2-baaa-3776ee91e4a1');\n",
       "var x = new MutationObserver(function (mutations, observer) {{\n",
       "        var display = window.getComputedStyle(gd).display;\n",
       "        if (!display || display === 'none') {{\n",
       "            console.log([gd, 'removed!']);\n",
       "            Plotly.purge(gd);\n",
       "            observer.disconnect();\n",
       "        }}\n",
       "}});\n",
       "\n",
       "// Listen for the removal of the full notebook cells\n",
       "var notebookContainer = gd.closest('#notebook-container');\n",
       "if (notebookContainer) {{\n",
       "    x.observe(notebookContainer, {childList: true});\n",
       "}}\n",
       "\n",
       "// Listen for the clearing of the current output cell\n",
       "var outputEl = gd.closest('.output');\n",
       "if (outputEl) {{\n",
       "    x.observe(outputEl, {childList: true});\n",
       "}}\n",
       "\n",
       "                        })                };                });            </script>        </div>"
      ]
     },
     "metadata": {},
     "output_type": "display_data"
    }
   ],
   "source": [
    "fig = go.Figure(data=go.Scatter(x=data['posting_date'], y=data['volume_gbp']))\n",
    "fig.show()"
   ]
  },
  {
   "cell_type": "markdown",
   "id": "8d1d8d87-1931-4192-993c-062a2456411b",
   "metadata": {},
   "source": [
    "After a quick look at the time series data I saw that the data follows a weekly pattern, so there is weekly seasonality.\n",
    "\n",
    "I can see also a potential data issue in October 2023.\n",
    "\n",
    "A spike in early May can be an outlier or a big business transaction."
   ]
  },
  {
   "cell_type": "code",
   "execution_count": 83,
   "id": "5722f80b-52eb-4019-afc2-b721d4efd6a5",
   "metadata": {
    "scrolled": true
   },
   "outputs": [
    {
     "data": {
      "text/plain": [
       "<Axes: xlabel='volume_gbp', ylabel='Density'>"
      ]
     },
     "execution_count": 83,
     "metadata": {},
     "output_type": "execute_result"
    },
    {
     "data": {
      "image/png": "[encoded data removed]",
      "text/plain": [
       "<Figure size 640x480 with 1 Axes>"
      ]
     },
     "metadata": {
      "image/png": {
       "height": 448,
       "width": 567
      }
     },
     "output_type": "display_data"
    }
   ],
   "source": [
    "# Let's visualise the distribution\n",
    "sns.histplot(dataset['volume_gbp'], kde=True, stat='density')"
   ]
  },
  {
   "cell_type": "markdown",
   "id": "50d90ce0-77ea-4fbf-a856-97149593c1e7",
   "metadata": {},
   "source": [
    "The chart shows that it is a bimodal, right-skewed distribution. Bimodal distribution can be justified by the presence of **two distinct customer segments**:\n",
    "* Consumer to Consumer Transactions (C2C) - low value transactions\n",
    "* Business to Business Transactions (B2B) - high value transactions\n",
    "\n",
    "The distribution is skewed to the right, meaning most values are relatively low.\n",
    "Given the implications (segmentation necessity) of bimodal right-skewed distribution, \n",
    "\n",
    "I'll proceed with splitting the distribution into two different groups using the Valley Point methodology, finding the local minimum between the two modes (the valley) and  using it as a splitting point. \n",
    "\n",
    "I use this method because modes are clearly separated\n",
    "\n"
   ]
  },
  {
   "cell_type": "code",
   "execution_count": 84,
   "id": "eef8b3f4-dc47-4a3a-9ead-ebab0b26e547",
   "metadata": {},
   "outputs": [
    {
     "name": "stdout",
     "output_type": "stream",
     "text": [
      "Valley point is: £37013.9\n"
     ]
    }
   ],
   "source": [
    "print(f'Valley point is: £{round(find_valley_point(dataset['volume_gbp'])[0], 1)}')"
   ]
  },
  {
   "cell_type": "code",
   "execution_count": 85,
   "id": "7706e453-c5b9-4ff4-bdc0-077ba0b64052",
   "metadata": {},
   "outputs": [
    {
     "data": {
      "image/png": "[encoded data removed]",
      "text/plain": [
       "<Figure size 1200x600 with 1 Axes>"
      ]
     },
     "metadata": {
      "image/png": {
       "height": 546,
       "width": 1001
      }
     },
     "output_type": "display_data"
    }
   ],
   "source": [
    "transaction_values = dataset['volume_gbp'].values\n",
    "valley_point, lower_group, higher_group = split_distribution(transaction_values)"
   ]
  },
  {
   "cell_type": "code",
   "execution_count": 86,
   "id": "7371b638-50b6-4335-8fd5-0d7880297ddb",
   "metadata": {},
   "outputs": [
    {
     "name": "stdout",
     "output_type": "stream",
     "text": [
      "Valley point: 37013.92695000002\n",
      "Lower group size: 66 (24.0%)\n",
      "Higher group size: 209 (76.0%)\n"
     ]
    }
   ],
   "source": [
    "print(f'Valley point: {valley_point}')\n",
    "print(f'Lower group size: {len(lower_group)} ({(len(lower_group)/dataset.shape[0]) * 100}%)')\n",
    "print(f'Higher group size: {len(higher_group)} ({(len(higher_group)/dataset.shape[0]) * 100}%)')"
   ]
  },
  {
   "cell_type": "code",
   "execution_count": 87,
   "id": "1f11e6bb-da7d-41c1-ab48-dbbafa355f07",
   "metadata": {},
   "outputs": [
    {
     "data": {
      "text/plain": [
       "[Text(0.5, 1.0, 'Lower Group Distribution')]"
      ]
     },
     "execution_count": 87,
     "metadata": {},
     "output_type": "execute_result"
    },
    {
     "data": {
      "image/png": "[encoded data removed]",
      "text/plain": [
       "<Figure size 640x480 with 1 Axes>"
      ]
     },
     "metadata": {
      "image/png": {
       "height": 454,
       "width": 594
      }
     },
     "output_type": "display_data"
    }
   ],
   "source": [
    "sns.histplot(dataset[dataset['volume_gbp']< 37013]['volume_gbp'], kde=True, stat=\"density\", bins=50).set(title='Lower Group Distribution')"
   ]
  },
  {
   "cell_type": "code",
   "execution_count": 88,
   "id": "2789673d-956f-4db1-a487-2d13cb5cc8bc",
   "metadata": {},
   "outputs": [
    {
     "data": {
      "text/plain": [
       "[Text(0.5, 1.0, 'Higher Group Distribution')]"
      ]
     },
     "execution_count": 88,
     "metadata": {},
     "output_type": "execute_result"
    },
    {
     "data": {
      "image/png": "[encoded data removed]",
      "text/plain": [
       "<Figure size 640x480 with 1 Axes>"
      ]
     },
     "metadata": {
      "image/png": {
       "height": 454,
       "width": 567
      }
     },
     "output_type": "display_data"
    }
   ],
   "source": [
    "sns.histplot(dataset[dataset['volume_gbp']> 37000]['volume_gbp'], kde=True, stat=\"density\", bins=50).set(title='Higher Group Distribution')"
   ]
  },
  {
   "cell_type": "markdown",
   "id": "d1fa3c24-c227-4a53-9b7c-9a40ab3eb47a",
   "metadata": {},
   "source": [
    "Both of the distribution are right skewed I'll analyse them separately"
   ]
  },
  {
   "cell_type": "markdown",
   "id": "f01909e5-a70b-4bd7-b3c2-9a106be93fa6",
   "metadata": {},
   "source": [
    "### Quarterly Data & Hypotesis Testing"
   ]
  },
  {
   "cell_type": "markdown",
   "id": "a68ac73c-a7d5-4e9c-a61a-792b26ff825d",
   "metadata": {},
   "source": [
    "#### Higher Group"
   ]
  },
  {
   "cell_type": "code",
   "execution_count": 89,
   "id": "66b64706-6b71-4844-b52b-b90b66055664",
   "metadata": {},
   "outputs": [
    {
     "data": {
      "text/html": [
       "<div>\n",
       "<style scoped>\n",
       "    .dataframe tbody tr th:only-of-type {\n",
       "        vertical-align: middle;\n",
       "    }\n",
       "\n",
       "    .dataframe tbody tr th {\n",
       "        vertical-align: top;\n",
       "    }\n",
       "\n",
       "    .dataframe thead th {\n",
       "        text-align: right;\n",
       "    }\n",
       "</style>\n",
       "<table border=\"1\" class=\"dataframe\">\n",
       "  <thead>\n",
       "    <tr style=\"text-align: right;\">\n",
       "      <th></th>\n",
       "      <th>volume_gbp_x</th>\n",
       "      <th>date</th>\n",
       "      <th>posting_date</th>\n",
       "      <th>day_name</th>\n",
       "      <th>month_name</th>\n",
       "      <th>quarter</th>\n",
       "    </tr>\n",
       "  </thead>\n",
       "  <tbody>\n",
       "    <tr>\n",
       "      <th>1</th>\n",
       "      <td>170487.18</td>\n",
       "      <td>2023-04-02</td>\n",
       "      <td>2023-04-02</td>\n",
       "      <td>Sunday</td>\n",
       "      <td>April</td>\n",
       "      <td>Q2</td>\n",
       "    </tr>\n",
       "    <tr>\n",
       "      <th>2</th>\n",
       "      <td>250508.04</td>\n",
       "      <td>2023-04-03</td>\n",
       "      <td>2023-04-03</td>\n",
       "      <td>Monday</td>\n",
       "      <td>April</td>\n",
       "      <td>Q2</td>\n",
       "    </tr>\n",
       "    <tr>\n",
       "      <th>3</th>\n",
       "      <td>611955.31</td>\n",
       "      <td>2023-04-04</td>\n",
       "      <td>2023-04-04</td>\n",
       "      <td>Tuesday</td>\n",
       "      <td>April</td>\n",
       "      <td>Q2</td>\n",
       "    </tr>\n",
       "    <tr>\n",
       "      <th>4</th>\n",
       "      <td>282503.79</td>\n",
       "      <td>2023-04-05</td>\n",
       "      <td>2023-04-05</td>\n",
       "      <td>Wednesday</td>\n",
       "      <td>April</td>\n",
       "      <td>Q2</td>\n",
       "    </tr>\n",
       "    <tr>\n",
       "      <th>5</th>\n",
       "      <td>98214.34</td>\n",
       "      <td>2023-04-06</td>\n",
       "      <td>2023-04-06</td>\n",
       "      <td>Thursday</td>\n",
       "      <td>April</td>\n",
       "      <td>Q2</td>\n",
       "    </tr>\n",
       "  </tbody>\n",
       "</table>\n",
       "</div>"
      ],
      "text/plain": [
       "   volume_gbp_x       date posting_date   day_name month_name quarter\n",
       "1     170487.18 2023-04-02   2023-04-02     Sunday      April      Q2\n",
       "2     250508.04 2023-04-03   2023-04-03     Monday      April      Q2\n",
       "3     611955.31 2023-04-04   2023-04-04    Tuesday      April      Q2\n",
       "4     282503.79 2023-04-05   2023-04-05  Wednesday      April      Q2\n",
       "5      98214.34 2023-04-06   2023-04-06   Thursday      April      Q2"
      ]
     },
     "execution_count": 89,
     "metadata": {},
     "output_type": "execute_result"
    }
   ],
   "source": [
    "higher_group_df = pd.DataFrame(higher_group)\n",
    "# Merge original dataset to take quarter column\n",
    "higher_group_df = higher_group_df.merge(dataset, how='left', left_index=True, right_index=True)\n",
    "higher_group_df.drop(columns = ('volume_gbp_y'), inplace=True)\n",
    "higher_group_df.head()"
   ]
  },
  {
   "cell_type": "code",
   "execution_count": 90,
   "id": "dc41346b-5add-499a-847c-060ff9587df2",
   "metadata": {},
   "outputs": [
    {
     "name": "stdout",
     "output_type": "stream",
     "text": [
      "Higher Group Global Avg 255105.4\n"
     ]
    }
   ],
   "source": [
    "print('Higher Group Global Avg', round(higher_group_df['volume_gbp_x'].mean(), 2))"
   ]
  },
  {
   "cell_type": "code",
   "execution_count": 91,
   "id": "feaf1cd5-c619-476c-8fcb-e0d7761c6747",
   "metadata": {},
   "outputs": [
    {
     "data": {
      "text/html": [
       "<div>\n",
       "<style scoped>\n",
       "    .dataframe tbody tr th:only-of-type {\n",
       "        vertical-align: middle;\n",
       "    }\n",
       "\n",
       "    .dataframe tbody tr th {\n",
       "        vertical-align: top;\n",
       "    }\n",
       "\n",
       "    .dataframe thead th {\n",
       "        text-align: right;\n",
       "    }\n",
       "</style>\n",
       "<table border=\"1\" class=\"dataframe\">\n",
       "  <thead>\n",
       "    <tr style=\"text-align: right;\">\n",
       "      <th></th>\n",
       "      <th>sum_volume_gbp</th>\n",
       "      <th>avg_volume_gbp</th>\n",
       "      <th>pct_change_volume_gbp</th>\n",
       "    </tr>\n",
       "    <tr>\n",
       "      <th>quarter</th>\n",
       "      <th></th>\n",
       "      <th></th>\n",
       "      <th></th>\n",
       "    </tr>\n",
       "  </thead>\n",
       "  <tbody>\n",
       "    <tr>\n",
       "      <th>Q2</th>\n",
       "      <td>18913303.64</td>\n",
       "      <td>266384.558310</td>\n",
       "      <td>NaN</td>\n",
       "    </tr>\n",
       "    <tr>\n",
       "      <th>Q3</th>\n",
       "      <td>15973665.11</td>\n",
       "      <td>215860.339324</td>\n",
       "      <td>-15.542703</td>\n",
       "    </tr>\n",
       "    <tr>\n",
       "      <th>Q4</th>\n",
       "      <td>18430059.27</td>\n",
       "      <td>287969.676094</td>\n",
       "      <td>15.377774</td>\n",
       "    </tr>\n",
       "  </tbody>\n",
       "</table>\n",
       "</div>"
      ],
      "text/plain": [
       "         sum_volume_gbp  avg_volume_gbp  pct_change_volume_gbp\n",
       "quarter                                                       \n",
       "Q2          18913303.64   266384.558310                    NaN\n",
       "Q3          15973665.11   215860.339324             -15.542703\n",
       "Q4          18430059.27   287969.676094              15.377774"
      ]
     },
     "execution_count": 91,
     "metadata": {},
     "output_type": "execute_result"
    }
   ],
   "source": [
    "higher_group_summary = summary_table(higher_group_df)\n",
    "higher_group_summary"
   ]
  },
  {
   "cell_type": "markdown",
   "id": "45b48f39-1c45-40ef-b579-1417adcce222",
   "metadata": {},
   "source": [
    "There is a difference between quarters, 15.54% down in Q3, and 15.38% up in Q4.\n",
    "\n",
    "Let's test if it is statistically significant. To determine if these quarterly differences are statistically significant rather than random fluctuations,\n",
    "we should perform statistical testing. I'll do it with both the Kruskal-Wallis test and ANOVA."
   ]
  },
  {
   "cell_type": "markdown",
   "id": "a6a802f3-8fff-444e-a200-901a28745662",
   "metadata": {},
   "source": [
    "##### **Non Parametric test**\n",
    "Methodology: Kruskal-Wallis test, Dunn’s test\n",
    "\n",
    "\n",
    "Result: Non-Parametric test: p-value = 0.0007, there is a difference in transactions between quarters. Dunn’s test suggests that this difference is between Q3 and Q4."
   ]
  },
  {
   "cell_type": "code",
   "execution_count": 92,
   "id": "2467f2f4-3974-4db6-a59a-5f89a10ae332",
   "metadata": {},
   "outputs": [
    {
     "data": {
      "text/plain": [
       "('0.0007 is < than 0.05, so we would reject the null hypothesis.        This means there is strong statistical evidence that there are significant differences in transaction volumes between quarters',\n",
       " (\"Dunn's Test Pairwise Comparisons:\",\n",
       "            Q2        Q3        Q4\n",
       "  Q2  1.000000  0.255362  0.100491\n",
       "  Q3  0.255362  1.000000  0.000396\n",
       "  Q4  0.100491  0.000396  1.000000))"
      ]
     },
     "execution_count": 92,
     "metadata": {},
     "output_type": "execute_result"
    }
   ],
   "source": [
    "# Kruskal-Wallis test\n",
    "non_parametric_tests(higher_group_df, 0.05)"
   ]
  },
  {
   "cell_type": "markdown",
   "id": "f6d83ab3-f5a0-4603-9568-c29c75e3decd",
   "metadata": {},
   "source": [
    "There is strong statistical evidence to conclude that transaction volumes differ significantly between quarters.\n",
    "The extremely low p-value (0.0007) suggests that the probability of observing such differences by chance, \n",
    "if no real difference existed, is less than 0.07%.\n",
    "\n",
    "Kruskal-Wallis only tells us that a difference exists, so the next data to observe is Dunn's Test results to see which quarters differ. From the output table I can see that p-value < 0.05 is between Q3 and Q4. This means that the difference in transaction volumes is statistically significant"
   ]
  },
  {
   "cell_type": "markdown",
   "id": "bce18c50-50ce-4cc7-9472-7257b8b345eb",
   "metadata": {},
   "source": [
    "##### **Parametric test**\n",
    "Methodology: ANOVA, Box-Cox normalisation, Shapiro-Wilk test, Levene’s test\n",
    "\n",
    "Results: p-value = 0.009, there is a difference in transactions between quarters.Tukey’s HSD test suggests that this is between Q3 and Q4."
   ]
  },
  {
   "cell_type": "markdown",
   "id": "2b75e5a4-0696-4624-8fb3-7a9d14662ea3",
   "metadata": {},
   "source": [
    "ANOVA Assumptions:\n",
    "* Normality - Shapiro-Wilk test\n",
    "* Homogeneity of variance - Levene’s test\n",
    "* Independence"
   ]
  },
  {
   "cell_type": "code",
   "execution_count": 93,
   "id": "2ca5eb27-666d-4f14-9a02-335c9f3e1282",
   "metadata": {},
   "outputs": [
    {
     "data": {
      "text/plain": [
       "0.6226227908798524"
      ]
     },
     "execution_count": 93,
     "metadata": {},
     "output_type": "execute_result"
    }
   ],
   "source": [
    "# let's normalise the distribution finding the best method (lower skewness)\n",
    "np.sqrt(higher_group_df['volume_gbp_x']).skew()"
   ]
  },
  {
   "cell_type": "code",
   "execution_count": 94,
   "id": "4022dd1c-5d03-427c-83c8-7f57a1ce7fab",
   "metadata": {},
   "outputs": [
    {
     "data": {
      "text/plain": [
       "-0.0008882833297350517"
      ]
     },
     "execution_count": 94,
     "metadata": {},
     "output_type": "execute_result"
    }
   ],
   "source": [
    "pd.Series(yeojohnson(higher_group_df['volume_gbp_x'])[0]).skew()"
   ]
  },
  {
   "cell_type": "code",
   "execution_count": 95,
   "id": "b977c3a5-15e4-4293-8a72-4fdfdd3a3ce1",
   "metadata": {},
   "outputs": [],
   "source": [
    "higher_group_df['box_cox_normalised_volume'] = pd.Series(boxcox(higher_group_df['volume_gbp_x'])[0]).skew()"
   ]
  },
  {
   "cell_type": "code",
   "execution_count": 96,
   "id": "804347a9-2d3b-415b-b548-d0a1b54c7ea1",
   "metadata": {},
   "outputs": [
    {
     "data": {
      "image/png": "[encoded data removed]",
      "text/plain": [
       "<Figure size 640x480 with 1 Axes>"
      ]
     },
     "metadata": {
      "image/png": {
       "height": 434,
       "width": 563
      }
     },
     "output_type": "display_data"
    }
   ],
   "source": [
    "# Box Cox distribution normalisation seems to be the best\n",
    "sns.histplot(boxcox(higher_group_df['volume_gbp_x'])[0], kde=True)\n",
    "plt.title('Distribution of Transactions')\n",
    "plt.show()"
   ]
  },
  {
   "cell_type": "markdown",
   "id": "3c0e2c40-1988-4e3a-9769-e1f896b1d9ba",
   "metadata": {},
   "source": [
    "I'll check for normality using Shapiro-Wilk test. \n",
    "\n",
    "Hypothesis:\n",
    "* H0 - The data is normally distributed\n",
    "* H1 - The data is not normally distributed\n",
    "* alpha = 0.05"
   ]
  },
  {
   "cell_type": "code",
   "execution_count": 97,
   "id": "be5eba62-6746-4466-adef-7af4713e6c94",
   "metadata": {},
   "outputs": [
    {
     "name": "stdout",
     "output_type": "stream",
     "text": [
      "Shapiro-Wilk p-value: 0.7887965314209278\n"
     ]
    }
   ],
   "source": [
    "# Shapiro-Wilk test\n",
    "shapiro_test = stats.shapiro(boxcox(higher_group_df['volume_gbp_x'])[0])\n",
    "print(f\"Shapiro-Wilk p-value: {shapiro_test.pvalue}\")"
   ]
  },
  {
   "cell_type": "markdown",
   "id": "8f38bbe9-94cb-4334-8054-be7f8005b0fa",
   "metadata": {},
   "source": [
    "p-value > 0.05 this means that I cannot reject the null hypothesis. The data are normally distributed"
   ]
  },
  {
   "cell_type": "code",
   "execution_count": 98,
   "id": "99cde5fa-fe93-4de2-89f7-c872dfd1c495",
   "metadata": {},
   "outputs": [
    {
     "name": "stdout",
     "output_type": "stream",
     "text": [
      "Levene’s Test Statistic: 2.2679, p-value: 0.1061\n",
      "Variance is equal across quarters\n"
     ]
    }
   ],
   "source": [
    "# Levene’s test\n",
    "groups = [group['volume_gbp_x'].values for _, group in higher_group_df.groupby('quarter')]\n",
    "levene_stat, levene_p = stats.levene(*groups)\n",
    "print(f\"Levene’s Test Statistic: {levene_stat:.4f}, p-value: {levene_p:.4f}\")\n",
    "\n",
    "# Interpretation\n",
    "if levene_p < 0.05:\n",
    "    print('Variance is significantly different across quarters')\n",
    "else:\n",
    "    print('Variance is equal across quarters')"
   ]
  },
  {
   "cell_type": "markdown",
   "id": "44c5a50a-db28-4bdc-ab56-adea744fba96",
   "metadata": {},
   "source": [
    "ANOVA Hypothesis:\n",
    "* H0 - The transaction mean for all quarters are equal\n",
    "* H1 - At least one quarter has a significantly different mean\n",
    "* Alpha = 0.05"
   ]
  },
  {
   "cell_type": "code",
   "execution_count": 99,
   "id": "e8950762-0df9-45cf-9d6a-3675156bbf57",
   "metadata": {},
   "outputs": [
    {
     "name": "stdout",
     "output_type": "stream",
     "text": [
      "F-Statistic=4.851, p=0.009\n"
     ]
    }
   ],
   "source": [
    "F, p = stats.f_oneway(higher_group_df[higher_group_df['quarter']=='Q2']['volume_gbp_x']\n",
    "                      ,higher_group_df[higher_group_df['quarter']=='Q3']['volume_gbp_x']\n",
    "                     ,higher_group_df[higher_group_df['quarter']=='Q4']['volume_gbp_x'])\n",
    "# Seeing if the overall model is significant\n",
    "print('F-Statistic=%.3f, p=%.3f' % (F, p))"
   ]
  },
  {
   "cell_type": "markdown",
   "id": "47826a0a-6848-4850-9773-3e0f43bf0af8",
   "metadata": {},
   "source": [
    "Since p = 0.009, which is less than 0.05, I reject the null hypothesis and conclude that there is a significant difference in the mean transaction amounts across the quarters."
   ]
  },
  {
   "cell_type": "code",
   "execution_count": 100,
   "id": "3d93f70d-84b4-44fa-9a90-d1ec3cf777e5",
   "metadata": {},
   "outputs": [
    {
     "name": "stdout",
     "output_type": "stream",
     "text": [
      "\n",
      "Tukey’s HSD Test Results:\n",
      "       Multiple Comparison of Means - Tukey HSD, FWER=0.05      \n",
      "===============================================================\n",
      "group1 group2  meandiff  p-adj     lower        upper    reject\n",
      "---------------------------------------------------------------\n",
      "    Q2     Q3 -50524.219 0.0804 -105716.7487   4668.3107  False\n",
      "    Q2     Q4 21585.1178 0.6473  -35679.8547  78850.0902  False\n",
      "    Q3     Q4 72109.3368 0.0084   15397.3281 128821.3454   True\n",
      "---------------------------------------------------------------\n"
     ]
    }
   ],
   "source": [
    "# Tukey’s HSD test\n",
    "tukey = pairwise_tukeyhsd(higher_group_df['volume_gbp_x'], higher_group_df['quarter'], alpha=0.05)\n",
    "    \n",
    "print(\"\\nTukey’s HSD Test Results:\\n\", tukey)"
   ]
  },
  {
   "cell_type": "markdown",
   "id": "6aaea6c7-9607-4111-a1b7-4e51b7575842",
   "metadata": {},
   "source": [
    "Summary\n",
    "Q3 and Q4 have a statistically significant difference in transaction amounts.\n",
    "Q2 and Q3, and Q2 and Q4, do not show significant differences in transaction amounts."
   ]
  },
  {
   "cell_type": "markdown",
   "id": "284cfcc0-bc6a-4510-84ed-51c0d8972f86",
   "metadata": {},
   "source": [
    "#### Lower Group"
   ]
  },
  {
   "cell_type": "code",
   "execution_count": 101,
   "id": "0fc0861f-961e-4e9f-adbc-b92d7e0e552b",
   "metadata": {},
   "outputs": [
    {
     "data": {
      "text/html": [
       "<div>\n",
       "<style scoped>\n",
       "    .dataframe tbody tr th:only-of-type {\n",
       "        vertical-align: middle;\n",
       "    }\n",
       "\n",
       "    .dataframe tbody tr th {\n",
       "        vertical-align: top;\n",
       "    }\n",
       "\n",
       "    .dataframe thead th {\n",
       "        text-align: right;\n",
       "    }\n",
       "</style>\n",
       "<table border=\"1\" class=\"dataframe\">\n",
       "  <thead>\n",
       "    <tr style=\"text-align: right;\">\n",
       "      <th></th>\n",
       "      <th>date</th>\n",
       "      <th>posting_date</th>\n",
       "      <th>volume_gbp_x</th>\n",
       "      <th>quarter</th>\n",
       "    </tr>\n",
       "  </thead>\n",
       "  <tbody>\n",
       "    <tr>\n",
       "      <th>0</th>\n",
       "      <td>2023-04-01</td>\n",
       "      <td>2023-04-01</td>\n",
       "      <td>0.00</td>\n",
       "      <td>Q2</td>\n",
       "    </tr>\n",
       "    <tr>\n",
       "      <th>6</th>\n",
       "      <td>2023-04-07</td>\n",
       "      <td>2023-04-07</td>\n",
       "      <td>0.00</td>\n",
       "      <td>Q2</td>\n",
       "    </tr>\n",
       "    <tr>\n",
       "      <th>7</th>\n",
       "      <td>2023-04-08</td>\n",
       "      <td>2023-04-08</td>\n",
       "      <td>133.93</td>\n",
       "      <td>Q2</td>\n",
       "    </tr>\n",
       "    <tr>\n",
       "      <th>8</th>\n",
       "      <td>2023-04-09</td>\n",
       "      <td>2023-04-09</td>\n",
       "      <td>0.00</td>\n",
       "      <td>Q2</td>\n",
       "    </tr>\n",
       "    <tr>\n",
       "      <th>14</th>\n",
       "      <td>2023-04-15</td>\n",
       "      <td>2023-04-15</td>\n",
       "      <td>1016.54</td>\n",
       "      <td>Q2</td>\n",
       "    </tr>\n",
       "  </tbody>\n",
       "</table>\n",
       "</div>"
      ],
      "text/plain": [
       "         date posting_date  volume_gbp_x quarter\n",
       "0  2023-04-01   2023-04-01          0.00      Q2\n",
       "6  2023-04-07   2023-04-07          0.00      Q2\n",
       "7  2023-04-08   2023-04-08        133.93      Q2\n",
       "8  2023-04-09   2023-04-09          0.00      Q2\n",
       "14 2023-04-15   2023-04-15       1016.54      Q2"
      ]
     },
     "execution_count": 101,
     "metadata": {},
     "output_type": "execute_result"
    }
   ],
   "source": [
    "lower_group_df = pd.DataFrame(lower_group)\n",
    "# Merge original dataset to take quarter column\n",
    "lower_group_df = lower_group_df.merge(dataset, how='left', left_index=True, right_index=True)\n",
    "lower_group_df.drop(columns = ('volume_gbp_y'), inplace=True)\n",
    "lower_group_df = lower_group_df[['date', 'posting_date', 'volume_gbp_x', 'quarter']]\n",
    "lower_group_df.head()"
   ]
  },
  {
   "cell_type": "code",
   "execution_count": 102,
   "id": "0fd5c5d8-1b1a-41d5-95b0-0c11279c364e",
   "metadata": {},
   "outputs": [
    {
     "name": "stdout",
     "output_type": "stream",
     "text": [
      "Lower Group Global Avg 2360.36\n"
     ]
    }
   ],
   "source": [
    "print('Lower Group Global Avg', round(lower_group_df['volume_gbp_x'].mean(), 2))"
   ]
  },
  {
   "cell_type": "code",
   "execution_count": 103,
   "id": "9d05f6cb-bdab-4c25-9f6a-00dedc3877a8",
   "metadata": {},
   "outputs": [
    {
     "data": {
      "text/html": [
       "<div>\n",
       "<style scoped>\n",
       "    .dataframe tbody tr th:only-of-type {\n",
       "        vertical-align: middle;\n",
       "    }\n",
       "\n",
       "    .dataframe tbody tr th {\n",
       "        vertical-align: top;\n",
       "    }\n",
       "\n",
       "    .dataframe thead th {\n",
       "        text-align: right;\n",
       "    }\n",
       "</style>\n",
       "<table border=\"1\" class=\"dataframe\">\n",
       "  <thead>\n",
       "    <tr style=\"text-align: right;\">\n",
       "      <th></th>\n",
       "      <th>sum_volume_gbp</th>\n",
       "      <th>avg_volume_gbp</th>\n",
       "      <th>pct_change_volume_gbp</th>\n",
       "    </tr>\n",
       "    <tr>\n",
       "      <th>quarter</th>\n",
       "      <th></th>\n",
       "      <th></th>\n",
       "      <th></th>\n",
       "    </tr>\n",
       "  </thead>\n",
       "  <tbody>\n",
       "    <tr>\n",
       "      <th>Q2</th>\n",
       "      <td>5906.32</td>\n",
       "      <td>295.316000</td>\n",
       "      <td>NaN</td>\n",
       "    </tr>\n",
       "    <tr>\n",
       "      <th>Q3</th>\n",
       "      <td>78092.88</td>\n",
       "      <td>4338.493333</td>\n",
       "      <td>1222.191822</td>\n",
       "    </tr>\n",
       "    <tr>\n",
       "      <th>Q4</th>\n",
       "      <td>71784.32</td>\n",
       "      <td>2563.725714</td>\n",
       "      <td>-8.078278</td>\n",
       "    </tr>\n",
       "  </tbody>\n",
       "</table>\n",
       "</div>"
      ],
      "text/plain": [
       "         sum_volume_gbp  avg_volume_gbp  pct_change_volume_gbp\n",
       "quarter                                                       \n",
       "Q2              5906.32      295.316000                    NaN\n",
       "Q3             78092.88     4338.493333            1222.191822\n",
       "Q4             71784.32     2563.725714              -8.078278"
      ]
     },
     "execution_count": 103,
     "metadata": {},
     "output_type": "execute_result"
    }
   ],
   "source": [
    "# Find quarterly volumes, average, and percentage change\n",
    "lower_group_summary = summary_table(lower_group_df)\n",
    "lower_group_summary"
   ]
  },
  {
   "cell_type": "markdown",
   "id": "2fd08d83-e312-4529-b141-3614a8f804c8",
   "metadata": {},
   "source": [
    "Hypotheses:\n",
    "\n",
    "* **H₀ (Null)**: The distribution of transaction volumes is the same across quarters (no difference between quarters)\n",
    "* **H₁ (Alternative)**: The distribution of transaction volumes differs between at least two quarters (at least one quarter has different transaction volumes)\n",
    "* Significance level (**α**) = 0.05"
   ]
  },
  {
   "cell_type": "code",
   "execution_count": 104,
   "id": "c6f8fbec-7ed1-4ce5-82bb-fce7ff62367f",
   "metadata": {},
   "outputs": [
    {
     "data": {
      "text/plain": [
       "('0.0000 is < than 0.05, so we would reject the null hypothesis.        This means there is strong statistical evidence that there are significant differences in transaction volumes between quarters',\n",
       " (\"Dunn's Test Pairwise Comparisons:\",\n",
       "            Q2        Q3        Q4\n",
       "  Q2  1.000000  0.000003  0.000005\n",
       "  Q3  0.000003  1.000000  1.000000\n",
       "  Q4  0.000005  1.000000  1.000000))"
      ]
     },
     "execution_count": 104,
     "metadata": {},
     "output_type": "execute_result"
    }
   ],
   "source": [
    "# Kruskal-Wallis test\n",
    "non_parametric_tests(lower_group_df, 0.05)"
   ]
  },
  {
   "cell_type": "markdown",
   "id": "fc600572-7137-4993-937f-f6c99be3b269",
   "metadata": {},
   "source": [
    "Dunn's test suggests that there is statistically signinficant difference between transaction volumes in Q2/Q3 and Q2/Q4"
   ]
  },
  {
   "cell_type": "markdown",
   "id": "c080ea3d-7bc9-47da-b78f-6903941ef0ca",
   "metadata": {},
   "source": [
    "### October 2023 Volume Estimation"
   ]
  },
  {
   "cell_type": "markdown",
   "id": "32b97fd7-2031-46ea-9573-e39b43259175",
   "metadata": {},
   "source": [
    "During the data cleaning, I observed missing data points in October 2023.\n",
    "I generated missing dates and filled missing the values with the average using day‐of‐week \n",
    "to reflect the true weekday activity, as most of the missing values were during the working days.\n",
    "\n",
    "I can also estimate October's transaction volume based on the daily average of historical data as well as estimating confidence intervals."
   ]
  },
  {
   "cell_type": "code",
   "execution_count": 105,
   "id": "70e7fc03-755f-4e07-8611-95451f8f8118",
   "metadata": {},
   "outputs": [
    {
     "data": {
      "text/html": [
       "<div>\n",
       "<style scoped>\n",
       "    .dataframe tbody tr th:only-of-type {\n",
       "        vertical-align: middle;\n",
       "    }\n",
       "\n",
       "    .dataframe tbody tr th {\n",
       "        vertical-align: top;\n",
       "    }\n",
       "\n",
       "    .dataframe thead th {\n",
       "        text-align: right;\n",
       "    }\n",
       "</style>\n",
       "<table border=\"1\" class=\"dataframe\">\n",
       "  <thead>\n",
       "    <tr style=\"text-align: right;\">\n",
       "      <th></th>\n",
       "      <th>volume_gbp</th>\n",
       "    </tr>\n",
       "    <tr>\n",
       "      <th>date</th>\n",
       "      <th></th>\n",
       "    </tr>\n",
       "  </thead>\n",
       "  <tbody>\n",
       "    <tr>\n",
       "      <th>2023-04-30</th>\n",
       "      <td>5370905.52</td>\n",
       "    </tr>\n",
       "    <tr>\n",
       "      <th>2023-05-31</th>\n",
       "      <td>8535468.60</td>\n",
       "    </tr>\n",
       "    <tr>\n",
       "      <th>2023-06-30</th>\n",
       "      <td>5012835.84</td>\n",
       "    </tr>\n",
       "    <tr>\n",
       "      <th>2023-07-31</th>\n",
       "      <td>5268676.93</td>\n",
       "    </tr>\n",
       "    <tr>\n",
       "      <th>2023-08-31</th>\n",
       "      <td>6039546.69</td>\n",
       "    </tr>\n",
       "    <tr>\n",
       "      <th>2023-09-30</th>\n",
       "      <td>4743534.37</td>\n",
       "    </tr>\n",
       "    <tr>\n",
       "      <th>2023-10-31</th>\n",
       "      <td>6422863.89</td>\n",
       "    </tr>\n",
       "    <tr>\n",
       "      <th>2023-11-30</th>\n",
       "      <td>6286151.41</td>\n",
       "    </tr>\n",
       "    <tr>\n",
       "      <th>2023-12-31</th>\n",
       "      <td>5792828.29</td>\n",
       "    </tr>\n",
       "  </tbody>\n",
       "</table>\n",
       "</div>"
      ],
      "text/plain": [
       "            volume_gbp\n",
       "date                  \n",
       "2023-04-30  5370905.52\n",
       "2023-05-31  8535468.60\n",
       "2023-06-30  5012835.84\n",
       "2023-07-31  5268676.93\n",
       "2023-08-31  6039546.69\n",
       "2023-09-30  4743534.37\n",
       "2023-10-31  6422863.89\n",
       "2023-11-30  6286151.41\n",
       "2023-12-31  5792828.29"
      ]
     },
     "execution_count": 105,
     "metadata": {},
     "output_type": "execute_result"
    }
   ],
   "source": [
    "monthly_dataset"
   ]
  },
  {
   "cell_type": "code",
   "execution_count": 106,
   "id": "4c3fb456-7d83-4710-8d20-69ccda579423",
   "metadata": {},
   "outputs": [
    {
     "data": {
      "text/plain": [
       "<Axes: title={'center': 'Transaction Volumes'}, xlabel='date'>"
      ]
     },
     "execution_count": 106,
     "metadata": {},
     "output_type": "execute_result"
    },
    {
     "data": {
      "image/png": "[encoded data removed]",
      "text/plain": [
       "<Figure size 640x480 with 1 Axes>"
      ]
     },
     "metadata": {
      "image/png": {
       "height": 588,
       "width": 534
      }
     },
     "output_type": "display_data"
    }
   ],
   "source": [
    "monthly_dataset.plot(kind='bar', title='Transaction Volumes')"
   ]
  },
  {
   "cell_type": "code",
   "execution_count": 107,
   "id": "6b6c07c6-9403-416f-a13d-9181e5773253",
   "metadata": {},
   "outputs": [
    {
     "name": "stdout",
     "output_type": "stream",
     "text": [
      "Historical Daily Mean: £191,098.19\n",
      "Historical Daily Std Dev: £165,897.26\n",
      "Number of Historical Days: 183\n"
     ]
    }
   ],
   "source": [
    "# Take data from April to September to estimate October's transaction volume\n",
    "apr_sept_data = dataset[(dataset['date'] >= '2023-04-01') & (dataset['date'] <= '2023-09-30')]\n",
    "\n",
    "# Daily mean and standard deviation\n",
    "daily_mean = apr_sept_data['volume_gbp'].mean()\n",
    "daily_std = apr_sept_data['volume_gbp'].std()\n",
    "n_records = apr_sept_data.shape[0]  # number of days from April to September\n",
    "print('Historical Daily Mean: £{:,.2f}'.format(daily_mean))\n",
    "print('Historical Daily Std Dev: £{:,.2f}'.format(daily_std))\n",
    "print('Number of Historical Days:', n_records)"
   ]
  },
  {
   "cell_type": "code",
   "execution_count": 108,
   "id": "b6b8d211-1100-4246-b76d-ff0834479f21",
   "metadata": {},
   "outputs": [
    {
     "name": "stdout",
     "output_type": "stream",
     "text": [
      "Forecasted Total for October 2023: £5,924,043.75\n",
      "95% Confidence Interval for October Total: (£5,178,914.80, £6,669,172.71)\n"
     ]
    }
   ],
   "source": [
    "# If I assume the daily mean remains the same in October.\n",
    "forecast_total = daily_mean * 31 \n",
    "\n",
    "# Standard error (SE) of the daily mean\n",
    "SE = daily_std / np.sqrt(n_records)\n",
    "\n",
    "# Compute a 95% confidence interval for the daily mean\n",
    "# (95% CI = mean ± 1.96 * SE)\n",
    "lower_daily = daily_mean - 1.96 * SE\n",
    "upper_daily = daily_mean + 1.96 * SE\n",
    "\n",
    "# Project the daily CI to a monthly total\n",
    "lower_total = lower_daily * 31\n",
    "upper_total = upper_daily * 31\n",
    "\n",
    "print('Forecasted Total for October 2023: £{:,.2f}'.format(forecast_total))\n",
    "print('95% Confidence Interval for October Total: (£{:,.2f}, £{:,.2f})'.format(lower_total, upper_total))"
   ]
  },
  {
   "cell_type": "code",
   "execution_count": null,
   "id": "264d6473-c166-4b5f-9088-75c53f32ffd0",
   "metadata": {},
   "outputs": [],
   "source": []
  }
 ],
 "metadata": {
  "kernelspec": {
   "display_name": "Python 3 (ipykernel)",
   "language": "python",
   "name": "python3"
  },
  "language_info": {
   "codemirror_mode": {
    "name": "ipython",
    "version": 3
   },
   "file_extension": ".py",
   "mimetype": "text/x-python",
   "name": "python",
   "nbconvert_exporter": "python",
   "pygments_lexer": "ipython3",
   "version": "3.12.1"
  }
 },
 "nbformat": 4,
 "nbformat_minor": 5
}
